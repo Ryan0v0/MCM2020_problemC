{
 "cells": [
  {
   "cell_type": "markdown",
   "metadata": {},
   "source": [
    "Louie Balderrama<br>\n",
    "Springboard Data Science Career Track, January 2019 cohort<br>\n",
    "\n",
    "<h1 align=\"center\">Capstone Project II</h1>\n",
    "\n",
    "# Introduction #\n",
    "**Problem Statement**: Classifying Amazon reviews based on customer ratings using NLP"
   ]
  },
  {
   "cell_type": "markdown",
   "metadata": {},
   "source": [
    "<h4 align=\"center\">Impact</h4>\n",
    "\n",
    "Reviews provide objective feedback to a product and are therefore inherently useful for consumers. These ratings are often summarized by a numerical rating, or the number of stars. Of course there is more value in the actual text itself than the quantified stars. And at times, the given rating does not truly convey the experience of the product – the heart of the feedback is actually in the text itself. The goal therefore is to build a classifier that would understand the essence of a piece of review and assign it the most appropriate rating based on the meaning of the text.\n",
    "\n",
    "<h4 align=\"center\">Background</h4>\n",
    "\n",
    "Though product ratings on Amazon are aggregated from all the reviews by every customer, each individual rating is actually only an integer that ranges from one star to five stars. This reduces our predictions to discrete classes totaling five possibilities. Therefore what we'll have is a supervised, multi-class classifier with the actual review text as the core predictor.\n",
    "\n",
    "This study is an exploration of Natural Language Processing (NLP). The goal of predicting the star rating given a piece of text will take on different NLP topics including word embedding, topic modeling, and dimension reduction. From there, we'll arrive at a final dataframe and we'll be employing different machine learning techniques in order to come up with the best approach (i.e. most accurate estimator) for our classifier.\n",
    "\n",
    "<h4 align=\"center\" id=\"Datasets\">Datasets</h4>\n",
    "\n",
    "The [Amazon dataset](http://jmcauley.ucsd.edu/data/amazon/index.html) contains the customer reviews for all listed *Electronics* products spanning from May 1996 up to July 2014. There are a total of 1,689,188 reviews by a total of 192,403 customers on 63,001 unique products. The data dictionary is as follows:\n",
    "\n",
    "*  **asin** - Unique ID of the product being reviewed, *string*\n",
    "*  **helpful** - A list with two elements: the number of users that voted *helpful*, and the total number of users that voted on the review (including the *not helpful* votes), *list*\n",
    "*  **overall** - The reviewer's rating of the product, *int64*\n",
    "*  **reviewText** - The review text itself, *string*\n",
    "*  **reviewerID** - Unique ID of the reviewer, *string*\n",
    "*  **reviewerName** - Specified name of the reviewer, *string*\n",
    "*  **summary** - Headline summary of the review, *string*\n",
    "*  **unixReviewTime** - Unix Time of when the review was posted, *string*"
   ]
  },
  {
   "cell_type": "markdown",
   "metadata": {},
   "source": [
    "# Data Wrangling #"
   ]
  },
  {
   "cell_type": "code",
   "execution_count": 23,
   "metadata": {
    "code_folding": []
   },
   "outputs": [],
   "source": [
    "import warnings\n",
    "\n",
    "warnings.simplefilter(\"ignore\", UserWarning)\n",
    "warnings.simplefilter(\"ignore\", FutureWarning)\n",
    "warnings.simplefilter(\"ignore\", DeprecationWarning)"
   ]
  },
  {
   "cell_type": "markdown",
   "metadata": {},
   "source": [
    "The `df` is created from the Amazon dataset. If the file has been downloaded then the dataset is loaded from the local file. Otherwise the file is accessed and extracted directly from the repository."
   ]
  },
  {
   "cell_type": "code",
   "execution_count": 24,
   "metadata": {},
   "outputs": [
    {
     "name": "stdout",
     "output_type": "stream",
     "text": [
      "./hair_dryer.tsv\n"
     ]
    },
    {
     "data": {
      "text/html": [
       "<div>\n",
       "<style scoped>\n",
       "    .dataframe tbody tr th:only-of-type {\n",
       "        vertical-align: middle;\n",
       "    }\n",
       "\n",
       "    .dataframe tbody tr th {\n",
       "        vertical-align: top;\n",
       "    }\n",
       "\n",
       "    .dataframe thead th {\n",
       "        text-align: right;\n",
       "    }\n",
       "</style>\n",
       "<table border=\"1\" class=\"dataframe\">\n",
       "  <thead>\n",
       "    <tr style=\"text-align: right;\">\n",
       "      <th></th>\n",
       "      <th>marketplace</th>\n",
       "      <th>customer_id</th>\n",
       "      <th>review_id</th>\n",
       "      <th>product_id</th>\n",
       "      <th>product_parent</th>\n",
       "      <th>product_title</th>\n",
       "      <th>product_category</th>\n",
       "      <th>star_rating</th>\n",
       "      <th>helpful_votes</th>\n",
       "      <th>total_votes</th>\n",
       "      <th>vine</th>\n",
       "      <th>verified_purchase</th>\n",
       "      <th>review_headline</th>\n",
       "      <th>review_body</th>\n",
       "      <th>review_date</th>\n",
       "    </tr>\n",
       "  </thead>\n",
       "  <tbody>\n",
       "    <tr>\n",
       "      <th>0</th>\n",
       "      <td>US</td>\n",
       "      <td>34678741</td>\n",
       "      <td>R9T1FE2ZX2X04</td>\n",
       "      <td>B003V264WW</td>\n",
       "      <td>732252283</td>\n",
       "      <td>remington ac2015 t|studio salon collection pea...</td>\n",
       "      <td>Beauty</td>\n",
       "      <td>5</td>\n",
       "      <td>0</td>\n",
       "      <td>0</td>\n",
       "      <td>N</td>\n",
       "      <td>Y</td>\n",
       "      <td>Works great</td>\n",
       "      <td>Works great!</td>\n",
       "      <td>8/31/2015</td>\n",
       "    </tr>\n",
       "    <tr>\n",
       "      <th>1</th>\n",
       "      <td>US</td>\n",
       "      <td>11599505</td>\n",
       "      <td>RE36JAD5V53PO</td>\n",
       "      <td>B0009XH6V4</td>\n",
       "      <td>670161917</td>\n",
       "      <td>andis micro turbo hair dryer</td>\n",
       "      <td>Beauty</td>\n",
       "      <td>4</td>\n",
       "      <td>0</td>\n",
       "      <td>0</td>\n",
       "      <td>N</td>\n",
       "      <td>Y</td>\n",
       "      <td>I love travel blow dryers because they are eas...</td>\n",
       "      <td>This dries my hair faster that bigger, more po...</td>\n",
       "      <td>8/31/2015</td>\n",
       "    </tr>\n",
       "    <tr>\n",
       "      <th>2</th>\n",
       "      <td>US</td>\n",
       "      <td>2282190</td>\n",
       "      <td>RIDHM8B7SCCV3</td>\n",
       "      <td>B0007NZPY6</td>\n",
       "      <td>16483457</td>\n",
       "      <td>conair pro hair dryer</td>\n",
       "      <td>Beauty</td>\n",
       "      <td>5</td>\n",
       "      <td>0</td>\n",
       "      <td>1</td>\n",
       "      <td>N</td>\n",
       "      <td>Y</td>\n",
       "      <td>Five Stars</td>\n",
       "      <td>Love this dryer!</td>\n",
       "      <td>8/31/2015</td>\n",
       "    </tr>\n",
       "    <tr>\n",
       "      <th>3</th>\n",
       "      <td>US</td>\n",
       "      <td>43669858</td>\n",
       "      <td>R14QGWPCHU9LSE</td>\n",
       "      <td>B00BB8ZIW0</td>\n",
       "      <td>253917972</td>\n",
       "      <td>remington silk ceramic professional hair dryer</td>\n",
       "      <td>Beauty</td>\n",
       "      <td>5</td>\n",
       "      <td>0</td>\n",
       "      <td>0</td>\n",
       "      <td>N</td>\n",
       "      <td>Y</td>\n",
       "      <td>Five Stars</td>\n",
       "      <td>styling hair in style</td>\n",
       "      <td>8/31/2015</td>\n",
       "    </tr>\n",
       "    <tr>\n",
       "      <th>4</th>\n",
       "      <td>US</td>\n",
       "      <td>107098</td>\n",
       "      <td>R35BHQJHXXJD59</td>\n",
       "      <td>B003V264WW</td>\n",
       "      <td>732252283</td>\n",
       "      <td>remington ac2015 t|studio salon collection pea...</td>\n",
       "      <td>Beauty</td>\n",
       "      <td>4</td>\n",
       "      <td>0</td>\n",
       "      <td>0</td>\n",
       "      <td>N</td>\n",
       "      <td>N</td>\n",
       "      <td>I think's great. The cord length is perfect</td>\n",
       "      <td>I just got this last week. I think's great. Th...</td>\n",
       "      <td>8/31/2015</td>\n",
       "    </tr>\n",
       "    <tr>\n",
       "      <th>...</th>\n",
       "      <td>...</td>\n",
       "      <td>...</td>\n",
       "      <td>...</td>\n",
       "      <td>...</td>\n",
       "      <td>...</td>\n",
       "      <td>...</td>\n",
       "      <td>...</td>\n",
       "      <td>...</td>\n",
       "      <td>...</td>\n",
       "      <td>...</td>\n",
       "      <td>...</td>\n",
       "      <td>...</td>\n",
       "      <td>...</td>\n",
       "      <td>...</td>\n",
       "      <td>...</td>\n",
       "    </tr>\n",
       "    <tr>\n",
       "      <th>1142</th>\n",
       "      <td>US</td>\n",
       "      <td>29653121</td>\n",
       "      <td>R3RIWOPDA17R0O</td>\n",
       "      <td>B003FBG88E</td>\n",
       "      <td>195677102</td>\n",
       "      <td>conair pro styler ionic conditioning hair dryer</td>\n",
       "      <td>Beauty</td>\n",
       "      <td>3</td>\n",
       "      <td>1</td>\n",
       "      <td>1</td>\n",
       "      <td>N</td>\n",
       "      <td>Y</td>\n",
       "      <td>Wife didn't really like it</td>\n",
       "      <td>Wife didn't really like it. Wasn't impressed. ...</td>\n",
       "      <td>5/25/2015</td>\n",
       "    </tr>\n",
       "    <tr>\n",
       "      <th>1143</th>\n",
       "      <td>US</td>\n",
       "      <td>18677482</td>\n",
       "      <td>R2NFHC1KMINYPV</td>\n",
       "      <td>B00440ZZKW</td>\n",
       "      <td>734632472</td>\n",
       "      <td>t3 featherweight journey travel hair dryer</td>\n",
       "      <td>Beauty</td>\n",
       "      <td>1</td>\n",
       "      <td>0</td>\n",
       "      <td>0</td>\n",
       "      <td>N</td>\n",
       "      <td>Y</td>\n",
       "      <td>Overheats immediately!</td>\n",
       "      <td>Overheats REALLY easy :( It is light, small, c...</td>\n",
       "      <td>5/25/2015</td>\n",
       "    </tr>\n",
       "    <tr>\n",
       "      <th>1144</th>\n",
       "      <td>US</td>\n",
       "      <td>24098790</td>\n",
       "      <td>R1SNIH7E3VFVS1</td>\n",
       "      <td>B007ROD3AG</td>\n",
       "      <td>614083399</td>\n",
       "      <td>salon sundry professional bonnet style hood 1,...</td>\n",
       "      <td>Beauty</td>\n",
       "      <td>5</td>\n",
       "      <td>0</td>\n",
       "      <td>0</td>\n",
       "      <td>N</td>\n",
       "      <td>Y</td>\n",
       "      <td>Great product quiet like I've never experience...</td>\n",
       "      <td>Great product quiet like I've never experience...</td>\n",
       "      <td>5/25/2015</td>\n",
       "    </tr>\n",
       "    <tr>\n",
       "      <th>1145</th>\n",
       "      <td>US</td>\n",
       "      <td>52290874</td>\n",
       "      <td>R199FV0NDPDG4R</td>\n",
       "      <td>B00JXQ06X8</td>\n",
       "      <td>619941271</td>\n",
       "      <td>bed head curls in check 1875 watt diffuser hai...</td>\n",
       "      <td>Beauty</td>\n",
       "      <td>5</td>\n",
       "      <td>85</td>\n",
       "      <td>89</td>\n",
       "      <td>N</td>\n",
       "      <td>N</td>\n",
       "      <td>New Curlipops Pancake Style Dryer Beats the Co...</td>\n",
       "      <td>I’m better impressed with the Curlipops Diffus...</td>\n",
       "      <td>5/25/2015</td>\n",
       "    </tr>\n",
       "    <tr>\n",
       "      <th>1146</th>\n",
       "      <td>US</td>\n",
       "      <td>15585134</td>\n",
       "      <td>R2VPYJM0OXFUXW</td>\n",
       "      <td>B003V264WW</td>\n",
       "      <td>732252283</td>\n",
       "      <td>remington ac2015 t|studio salon collection pea...</td>\n",
       "      <td>Beauty</td>\n",
       "      <td>5</td>\n",
       "      <td>0</td>\n",
       "      <td>0</td>\n",
       "      <td>N</td>\n",
       "      <td>Y</td>\n",
       "      <td>Five Stars</td>\n",
       "      <td>Great product</td>\n",
       "      <td>5/25/2015</td>\n",
       "    </tr>\n",
       "  </tbody>\n",
       "</table>\n",
       "<p>1147 rows × 15 columns</p>\n",
       "</div>"
      ],
      "text/plain": [
       "     marketplace  customer_id       review_id  product_id  product_parent  \\\n",
       "0             US     34678741   R9T1FE2ZX2X04  B003V264WW       732252283   \n",
       "1             US     11599505   RE36JAD5V53PO  B0009XH6V4       670161917   \n",
       "2             US      2282190   RIDHM8B7SCCV3  B0007NZPY6        16483457   \n",
       "3             US     43669858  R14QGWPCHU9LSE  B00BB8ZIW0       253917972   \n",
       "4             US       107098  R35BHQJHXXJD59  B003V264WW       732252283   \n",
       "...          ...          ...             ...         ...             ...   \n",
       "1142          US     29653121  R3RIWOPDA17R0O  B003FBG88E       195677102   \n",
       "1143          US     18677482  R2NFHC1KMINYPV  B00440ZZKW       734632472   \n",
       "1144          US     24098790  R1SNIH7E3VFVS1  B007ROD3AG       614083399   \n",
       "1145          US     52290874  R199FV0NDPDG4R  B00JXQ06X8       619941271   \n",
       "1146          US     15585134  R2VPYJM0OXFUXW  B003V264WW       732252283   \n",
       "\n",
       "                                          product_title product_category  \\\n",
       "0     remington ac2015 t|studio salon collection pea...           Beauty   \n",
       "1                          andis micro turbo hair dryer           Beauty   \n",
       "2                                 conair pro hair dryer           Beauty   \n",
       "3        remington silk ceramic professional hair dryer           Beauty   \n",
       "4     remington ac2015 t|studio salon collection pea...           Beauty   \n",
       "...                                                 ...              ...   \n",
       "1142    conair pro styler ionic conditioning hair dryer           Beauty   \n",
       "1143         t3 featherweight journey travel hair dryer           Beauty   \n",
       "1144  salon sundry professional bonnet style hood 1,...           Beauty   \n",
       "1145  bed head curls in check 1875 watt diffuser hai...           Beauty   \n",
       "1146  remington ac2015 t|studio salon collection pea...           Beauty   \n",
       "\n",
       "      star_rating  helpful_votes  total_votes vine verified_purchase  \\\n",
       "0               5              0            0    N                 Y   \n",
       "1               4              0            0    N                 Y   \n",
       "2               5              0            1    N                 Y   \n",
       "3               5              0            0    N                 Y   \n",
       "4               4              0            0    N                 N   \n",
       "...           ...            ...          ...  ...               ...   \n",
       "1142            3              1            1    N                 Y   \n",
       "1143            1              0            0    N                 Y   \n",
       "1144            5              0            0    N                 Y   \n",
       "1145            5             85           89    N                 N   \n",
       "1146            5              0            0    N                 Y   \n",
       "\n",
       "                                        review_headline  \\\n",
       "0                                           Works great   \n",
       "1     I love travel blow dryers because they are eas...   \n",
       "2                                            Five Stars   \n",
       "3                                            Five Stars   \n",
       "4           I think's great. The cord length is perfect   \n",
       "...                                                 ...   \n",
       "1142                         Wife didn't really like it   \n",
       "1143                             Overheats immediately!   \n",
       "1144  Great product quiet like I've never experience...   \n",
       "1145  New Curlipops Pancake Style Dryer Beats the Co...   \n",
       "1146                                         Five Stars   \n",
       "\n",
       "                                            review_body review_date  \n",
       "0                                          Works great!   8/31/2015  \n",
       "1     This dries my hair faster that bigger, more po...   8/31/2015  \n",
       "2                                      Love this dryer!   8/31/2015  \n",
       "3                                 styling hair in style   8/31/2015  \n",
       "4     I just got this last week. I think's great. Th...   8/31/2015  \n",
       "...                                                 ...         ...  \n",
       "1142  Wife didn't really like it. Wasn't impressed. ...   5/25/2015  \n",
       "1143  Overheats REALLY easy :( It is light, small, c...   5/25/2015  \n",
       "1144  Great product quiet like I've never experience...   5/25/2015  \n",
       "1145  I’m better impressed with the Curlipops Diffus...   5/25/2015  \n",
       "1146                                      Great product   5/25/2015  \n",
       "\n",
       "[1147 rows x 15 columns]"
      ]
     },
     "metadata": {},
     "output_type": "display_data"
    }
   ],
   "source": [
    "import os\n",
    "import pandas as pd\n",
    "\n",
    "# dataset = \"Electronics_5.json\"\n",
    "\n",
    "# if os.path.isfile(dataset):\n",
    "#     df = pd.read_json(\"Electronics_5.json\", lines=True)\n",
    "# else:\n",
    "#     url = r\"http://snap.stanford.edu/data/amazon/productGraph/categoryFiles/reviews_Electronics_5.json.gz\"\n",
    "#     df = pd.read_json(url, compression='gzip', lines=True)\n",
    "\n",
    "tab1 = \"./hair_dryer.tsv\"\n",
    "print(tab1)\n",
    "tab2 = \".\"\n",
    "df = pd.read_csv(tab1, sep='\\t', header=0)\n",
    "\n",
    "df = df.head(int(len(df) / 10))\n",
    "display(df)"
   ]
  },
  {
   "cell_type": "markdown",
   "metadata": {},
   "source": [
    "Only the `overall` and the `unixReviewTime` series are stored as integers. The rest are interpreted as strings (objects)."
   ]
  },
  {
   "cell_type": "code",
   "execution_count": 25,
   "metadata": {},
   "outputs": [
    {
     "name": "stdout",
     "output_type": "stream",
     "text": [
      "<class 'pandas.core.frame.DataFrame'>\n",
      "RangeIndex: 1147 entries, 0 to 1146\n",
      "Data columns (total 15 columns):\n",
      "marketplace          1147 non-null object\n",
      "customer_id          1147 non-null int64\n",
      "review_id            1147 non-null object\n",
      "product_id           1147 non-null object\n",
      "product_parent       1147 non-null int64\n",
      "product_title        1147 non-null object\n",
      "product_category     1147 non-null object\n",
      "star_rating          1147 non-null int64\n",
      "helpful_votes        1147 non-null int64\n",
      "total_votes          1147 non-null int64\n",
      "vine                 1147 non-null object\n",
      "verified_purchase    1147 non-null object\n",
      "review_headline      1146 non-null object\n",
      "review_body          1147 non-null object\n",
      "review_date          1147 non-null object\n",
      "dtypes: int64(5), object(10)\n",
      "memory usage: 134.5+ KB\n",
      "None\n"
     ]
    }
   ],
   "source": [
    "print(df.info())"
   ]
  },
  {
   "cell_type": "markdown",
   "metadata": {},
   "source": [
    "Each review is stored as string in the `review_body` series. A sample product review is below:"
   ]
  },
  {
   "cell_type": "code",
   "execution_count": 26,
   "metadata": {},
   "outputs": [
    {
     "name": "stdout",
     "output_type": "stream",
     "text": [
      "Works great!\n"
     ]
    }
   ],
   "source": [
    "print(df[\"review_body\"].iloc[0])"
   ]
  },
  {
   "cell_type": "markdown",
   "metadata": {},
   "source": [
    "Each review is associated with a rating stored under the `overall` field. This serves as the quantified summary of a given review and will thus be used as the ground truth labels for the model."
   ]
  },
  {
   "cell_type": "code",
   "execution_count": 27,
   "metadata": {},
   "outputs": [
    {
     "name": "stdout",
     "output_type": "stream",
     "text": [
      "[5 4 1 3 2]\n"
     ]
    }
   ],
   "source": [
    "print(df.star_rating.unique())"
   ]
  },
  {
   "cell_type": "markdown",
   "metadata": {},
   "source": [
    "## NLP Pre-Processing ##\n",
    "We'll work with `review_body` to prepare our model's final dataframe. The goal is to produce tokens for every document (i.e. every review). These documents will make up our corpora where we'll draw our vocabulary from.\n",
    "\n",
    "The following is a sample text in its original form."
   ]
  },
  {
   "cell_type": "code",
   "execution_count": 28,
   "metadata": {},
   "outputs": [
    {
     "name": "stdout",
     "output_type": "stream",
     "text": [
      "This is the best hair dryer I have ever purchased. It provides tons of power and isn't loud. It dries my hair quickly and doesn't hsve shutting off issues like other dryers I have used. The bed head brand seems to be experts in their field and make products that work well and hold up well. They last a long time and I have no complaints.\n"
     ]
    }
   ],
   "source": [
    "sample_review = df[\"review_body\"].iloc[465]\n",
    "print(sample_review)"
   ]
  },
  {
   "cell_type": "markdown",
   "metadata": {},
   "source": [
    "### HTML Entities ###\n",
    "Some special characters like the apostrophe (’) and the en dash (–) are expressed as a set of numbers prefixed by `&#` and suffixed by `;`. This is because the dataset was scraped from an HTML parser, and the dataset itself includes data that predated the universal UTF-8 standard.\n",
    "\n",
    "These *HTML Entities* can be decoded by importing the `html` library."
   ]
  },
  {
   "cell_type": "code",
   "execution_count": 29,
   "metadata": {},
   "outputs": [
    {
     "name": "stdout",
     "output_type": "stream",
     "text": [
      "This is the best hair dryer I have ever purchased. It provides tons of power and isn't loud. It dries my hair quickly and doesn't hsve shutting off issues like other dryers I have used. The bed head brand seems to be experts in their field and make products that work well and hold up well. They last a long time and I have no complaints.\n"
     ]
    }
   ],
   "source": [
    "import html\n",
    "\n",
    "decoded_review = html.unescape(sample_review)\n",
    "print(decoded_review)"
   ]
  },
  {
   "cell_type": "markdown",
   "metadata": {},
   "source": [
    "Since punctuation marks do not add value in the way we'll perform NLP, all the HTML entities in the review texts can be dropped. The output series `preprocessed` is our `reviewText` but without the special characters."
   ]
  },
  {
   "cell_type": "code",
   "execution_count": 30,
   "metadata": {},
   "outputs": [
    {
     "name": "stdout",
     "output_type": "stream",
     "text": [
      "This is the best hair dryer I have ever purchased. It provides tons of power and isn't loud. It dries my hair quickly and doesn't hsve shutting off issues like other dryers I have used. The bed head brand seems to be experts in their field and make products that work well and hold up well. They last a long time and I have no complaints.\n"
     ]
    }
   ],
   "source": [
    "pattern = r\"\\&\\#[0-9]+\\;\"\n",
    "\n",
    "df[\"preprocessed\"] = df[\"review_body\"].str.replace(pat=pattern, repl=\"\", regex=True)\n",
    "\n",
    "print(df[\"preprocessed\"].iloc[465])"
   ]
  },
  {
   "cell_type": "markdown",
   "metadata": {},
   "source": [
    "### Extracting the root word ###\n",
    "How often a word is used is key information in natural language processing. It is therefore important to reduce words to their root form. An example would be the usage of the word \"*learn*\". If we differentiate this base form from a modified version like \"*learning*\" then we might lose relational context between two documents that have used either word.\n",
    "\n",
    "We'll be using Lemmatization to reduce tokens to their base word. This technique takes into account context similarity according to part-of-speech anatomy. Stemming is another common approach, although stemming only performs truncation and would not be able to reduce \"*taught*\" to \"*teach*\".\n",
    "\n",
    "We will be using the *WordNetLemmatizer* from the Natural Language Toolkit (or *NLTK*). Lemmatization only applies to each word but it is dependent on sentence structure to understand context. We therefore need to have part-of-speech tags associated with each word. Our output is derived from applying the `lemmatize_doc` function to our `preprocessed` column.\n",
    "\n",
    "The `lemmatize_doc` works as follows:\n",
    "* Each review is broken down into a list of sentences\n",
    "* Punctuations that only group words or separate sentences (hyphens therefore are excluded) are removed (replaced by whitespace) using RegEx\n",
    "* Every sentence is further broken down into words (tokens)\n",
    "\n",
    "Each of the sentences then becomes an ordered bag of words. Every word is then *tagged* to a part-of-speech. This word-tag tuple pair is then fed one at a time to the `lemmatize_word` function, which works as follows:\n",
    "* Only modifiable words – nouns, verbs, adjectives, and adverbs – can be reduced to roots\n",
    "* These words are lemmatized and appended to the `root` list\n",
    "* Words that are not modifiable are added as they are to the `root` list\n",
    "\n",
    "The output lists are linked together as a string using whitespace. In the end, each `preprocessed` review will retain its text form but with each word simplified as much as possible."
   ]
  },
  {
   "cell_type": "code",
   "execution_count": 31,
   "metadata": {},
   "outputs": [
    {
     "name": "stderr",
     "output_type": "stream",
     "text": [
      "[nltk_data] Downloading package wordnet to /home/alphonse/nltk_data...\n",
      "[nltk_data]   Package wordnet is already up-to-date!\n",
      "[nltk_data] Downloading package stopwords to\n",
      "[nltk_data]     /home/alphonse/nltk_data...\n",
      "[nltk_data]   Package stopwords is already up-to-date!\n",
      "[nltk_data] Downloading package averaged_perceptron_tagger to\n",
      "[nltk_data]     /home/alphonse/nltk_data...\n",
      "[nltk_data]   Package averaged_perceptron_tagger is already up-to-\n",
      "[nltk_data]       date!\n",
      "[nltk_data] Downloading package maxent_treebank_pos_tagger to\n",
      "[nltk_data]     /home/alphonse/nltk_data...\n",
      "[nltk_data]   Package maxent_treebank_pos_tagger is already up-to-\n",
      "[nltk_data]       date!\n"
     ]
    }
   ],
   "source": [
    "import re\n",
    "import nltk\n",
    "\n",
    "from nltk import word_tokenize, pos_tag\n",
    "from nltk.stem import WordNetLemmatizer\n",
    "from nltk.tokenize import sent_tokenize\n",
    "from nltk.corpus import wordnet\n",
    "\n",
    "#import nltk resources\n",
    "resources = [\"wordnet\", \"stopwords\", \"punkt\", \\\n",
    "             \"averaged_perceptron_tagger\", \"maxent_treebank_pos_tagger\"]\n",
    "\n",
    "for resource in resources:\n",
    "    try:\n",
    "        nltk.data.find(\"tokenizers/\" + resource)\n",
    "    except LookupError:\n",
    "        nltk.download(resource)\n",
    "\n",
    "#create Lemmatizer object\n",
    "lemma = WordNetLemmatizer()\n",
    "\n",
    "def lemmatize_word(tagged_token):\n",
    "    \"\"\" Returns lemmatized word given its tag\"\"\"\n",
    "    root = []\n",
    "    for token in tagged_token:\n",
    "        tag = token[1][0]\n",
    "        word = token[0]\n",
    "        if tag.startswith('J'):\n",
    "            root.append(lemma.lemmatize(word, wordnet.ADJ))\n",
    "        elif tag.startswith('V'):\n",
    "            root.append(lemma.lemmatize(word, wordnet.VERB))\n",
    "        elif tag.startswith('N'):\n",
    "            root.append(lemma.lemmatize(word, wordnet.NOUN))\n",
    "        elif tag.startswith('R'):\n",
    "            root.append(lemma.lemmatize(word, wordnet.ADV))\n",
    "        else:          \n",
    "            root.append(word)\n",
    "    return root\n",
    "\n",
    "\n",
    "\n"
   ]
  },
  {
   "cell_type": "code",
   "execution_count": 32,
   "metadata": {},
   "outputs": [],
   "source": [
    "def lemmatize_doc(document):\n",
    "    \"\"\" Tags words then returns sentence with lemmatized words\"\"\"\n",
    "    lemmatized_list = []\n",
    "    tokenized_sent = sent_tokenize(document)\n",
    "    for sentence in tokenized_sent:\n",
    "        no_punctuation = re.sub(r\"[`'\\\",.!?()]\", \" \", sentence)\n",
    "        tokenized_word = word_tokenize(no_punctuation)\n",
    "        tagged_token = pos_tag(tokenized_word)\n",
    "        lemmatized = lemmatize_word(tagged_token)\n",
    "        lemmatized_list.extend(lemmatized)\n",
    "    return \" \".join(lemmatized_list)"
   ]
  },
  {
   "cell_type": "code",
   "execution_count": 33,
   "metadata": {},
   "outputs": [
    {
     "name": "stdout",
     "output_type": "stream",
     "text": [
      "Powerful lot of fan setting cold air button and best of all a retractable cord I like the folding handle for travel too Great product I can blow my hair dry and blow out of here for a quick appointment\n"
     ]
    }
   ],
   "source": [
    "#apply our functions\n",
    "df[\"preprocessed\"] = df[\"preprocessed\"].apply(lambda row: lemmatize_doc(row))\n",
    "\n",
    "print(df[\"preprocessed\"].iloc[45])"
   ]
  },
  {
   "cell_type": "markdown",
   "metadata": {},
   "source": [
    "### Removing Accents ###\n",
    "Each review is normalized from longform UTF-8 to ASCII encoding. This will remove accents in characters and ensure that words like \"*naïve*\" will simply be interpreted as (and therefore not differentiated from) \"*naive*\"."
   ]
  },
  {
   "cell_type": "code",
   "execution_count": 34,
   "metadata": {},
   "outputs": [
    {
     "name": "stdout",
     "output_type": "stream",
     "text": [
      "This be the best hair dryer I have ever purchase It provide ton of power and isn t loud It dry my hair quickly and doesn t hsve shut off issue like other dryer I have use The bed head brand seem to be expert in their field and make product that work well and hold up well They last a long time and I have no complaint\n"
     ]
    }
   ],
   "source": [
    "from unicodedata import normalize\n",
    "\n",
    "remove_accent = lambda text: normalize(\"NFKD\", text).encode(\"ascii\", \"ignore\").decode(\"utf-8\", \"ignore\")\n",
    "\n",
    "df[\"preprocessed\"] = df[\"preprocessed\"].apply(remove_accent)\n",
    "\n",
    "print(df[\"preprocessed\"].iloc[465])"
   ]
  },
  {
   "cell_type": "markdown",
   "metadata": {},
   "source": [
    "### Removing Punctuations ###\n",
    "The `preprocessed` reviews are further cleaned by dropping punctuations. Using regular expressions, only whitespaces and alphanumeric characters are kept."
   ]
  },
  {
   "cell_type": "code",
   "execution_count": 35,
   "metadata": {},
   "outputs": [
    {
     "name": "stdout",
     "output_type": "stream",
     "text": [
      "This be the best hair dryer I have ever purchase It provide ton of power and isn t loud It dry my hair quickly and doesn t hsve shut off issue like other dryer I have use The bed head brand seem to be expert in their field and make product that work well and hold up well They last a long time and I have no complaint\n"
     ]
    }
   ],
   "source": [
    "pattern = r\"[^\\w\\s]\"\n",
    "\n",
    "df[\"preprocessed\"] = df[\"preprocessed\"].str.replace(pat=pattern, repl=\" \", regex=True)\n",
    "\n",
    "print(df[\"preprocessed\"].iloc[465])"
   ]
  },
  {
   "cell_type": "markdown",
   "metadata": {},
   "source": [
    "### Converting to Lower Case ###\n",
    "Every letter is also converted to lower case. This makes it so that \"*iPhone*\" will not be distinguishable from \"*iphone*\"."
   ]
  },
  {
   "cell_type": "code",
   "execution_count": 36,
   "metadata": {},
   "outputs": [
    {
     "name": "stdout",
     "output_type": "stream",
     "text": [
      "this be the best hair dryer i have ever purchase it provide ton of power and isn t loud it dry my hair quickly and doesn t hsve shut off issue like other dryer i have use the bed head brand seem to be expert in their field and make product that work well and hold up well they last a long time and i have no complaint\n"
     ]
    }
   ],
   "source": [
    "df[\"preprocessed\"] = df[\"preprocessed\"].str.lower()\n",
    "\n",
    "print(df[\"preprocessed\"].iloc[465])"
   ]
  },
  {
   "cell_type": "markdown",
   "metadata": {},
   "source": [
    "### Removing Stop Words ###\n",
    "Stop words consist of the most commonly used words that include pronouns (e.g. *us*, *she*, *their*), articles (e.g. *the*), and prepositions (e.g. *under*, *from*, *off*). These words are not helpful in distinguishing a document from another and are therefore dropped.\n",
    "\n",
    "Note that the `stop_words` were stripped of punctuations just as what we have done to our dataset."
   ]
  },
  {
   "cell_type": "code",
   "execution_count": 37,
   "metadata": {},
   "outputs": [
    {
     "name": "stdout",
     "output_type": "stream",
     "text": [
      "sample stop words: ['i', 'me', 'my', 'myself', 'we', 'our', 'ours', 'ourselves', 'you', 'youre', 'youve', 'youll', 'youd', 'your', 'yours'] \n",
      "\n",
      "best hair dryer ever purchase provide ton power loud dry hair quickly hsve shut issue like dryer use bed head brand seem expert field make product work well hold well last long time complaint\n"
     ]
    }
   ],
   "source": [
    "from nltk.corpus import stopwords\n",
    "\n",
    "stop_words = stopwords.words(\"english\")\n",
    "\n",
    "stop_words = [word.replace(\"\\'\", \"\") for word in stop_words]\n",
    "\n",
    "print(f\"sample stop words: {stop_words[:15]} \\n\")\n",
    "\n",
    "remove_stop_words = lambda row: \" \".join([token for token in row.split(\" \") \\\n",
    "                                          if token not in stop_words])\n",
    "df[\"preprocessed\"] = df[\"preprocessed\"].apply(remove_stop_words)\n",
    "\n",
    "print(df[\"preprocessed\"].iloc[465])"
   ]
  },
  {
   "cell_type": "markdown",
   "metadata": {},
   "source": [
    "### Removing Extra Spaces ###\n",
    "Again, we make use of regular expressions to ensure we never get more than a single whitespace to separate words in our sentences."
   ]
  },
  {
   "cell_type": "code",
   "execution_count": 38,
   "metadata": {},
   "outputs": [
    {
     "name": "stdout",
     "output_type": "stream",
     "text": [
      "best hair dryer ever purchase provide ton power loud dry hair quickly hsve shut issue like dryer use bed head brand seem expert field make product work well hold well last long time complaint\n"
     ]
    }
   ],
   "source": [
    "pattern = r\"[\\s]+\"\n",
    "\n",
    "df[\"preprocessed\"] = df[\"preprocessed\"].str.replace(pat=pattern, repl=\" \", regex=True)\n",
    "\n",
    "print(df[\"preprocessed\"].iloc[465])"
   ]
  },
  {
   "cell_type": "markdown",
   "metadata": {},
   "source": [
    "## Tokenization ##\n",
    "The entries for the `preprocessed` column are extracted to make up our *corpora*, which is simply a collection of all our documents. Each review is then transformed into an ordered list of words. This is the process of *tokenization* – the document is broken down into individual words or tokens.\n",
    "\n",
    "Our tokenized sample review is below:"
   ]
  },
  {
   "cell_type": "code",
   "execution_count": 39,
   "metadata": {},
   "outputs": [
    {
     "name": "stdout",
     "output_type": "stream",
     "text": [
      "['best', 'hair', 'dryer', 'ever', 'purchase', 'provide', 'ton', 'power', 'loud', 'dry', 'hair', 'quickly', 'hsve', 'shut', 'issue', 'like', 'dryer', 'use', 'bed', 'head', 'brand', 'seem', 'expert', 'field', 'make', 'product', 'work', 'well', 'hold', 'well', 'last', 'long', 'time', 'complaint']\n"
     ]
    }
   ],
   "source": [
    "corpora = df[\"preprocessed\"].values\n",
    "tokenized = [corpus.split(\" \") for corpus in corpora]\n",
    "\n",
    "print(tokenized[465])"
   ]
  },
  {
   "cell_type": "markdown",
   "metadata": {},
   "source": [
    "## Phrase Modeling ##\n",
    "Since order of words matter in most NLP models, it is often helpful to group neighboring words that appear to convey one meaning as though they are a single word, like *smart TV*.\n",
    "\n",
    "To be considered a *phrase*, the number of times that two words should appear next to each other is set to at least `300`. The *threshold* then takes that minimum and compares it to the total number of token instances in the corpora. The higher the threshold, the more often two words must appear adjacent to be grouped into a phrase."
   ]
  },
  {
   "cell_type": "code",
   "execution_count": 62,
   "metadata": {},
   "outputs": [
    {
     "data": {
      "text/plain": [
       "defaultdict(int,\n",
       "            {b'works': 61,\n",
       "             b'great': 300,\n",
       "             b'works_great': 28,\n",
       "             b'dry': 347,\n",
       "             b'hair': 988,\n",
       "             b'dry_hair': 151,\n",
       "             b'faster': 20,\n",
       "             b'hair_faster': 10,\n",
       "             b'big': 35,\n",
       "             b'faster_big': 1,\n",
       "             b'powerful': 76,\n",
       "             b'big_powerful': 1,\n",
       "             b'model': 42,\n",
       "             b'powerful_model': 1,\n",
       "             b'love': 277,\n",
       "             b'model_love': 1,\n",
       "             b'travel': 57,\n",
       "             b'love_travel': 2,\n",
       "             b'blow': 231,\n",
       "             b'travel_blow': 1,\n",
       "             b'dryer': 921,\n",
       "             b'blow_dryer': 117,\n",
       "             b'easy': 77,\n",
       "             b'dryer_easy': 5,\n",
       "             b'lift': 3,\n",
       "             b'easy_lift': 1,\n",
       "             b'usually': 12,\n",
       "             b'lift_usually': 1,\n",
       "             b'come': 86,\n",
       "             b'usually_come': 1,\n",
       "             b'1600': 2,\n",
       "             b'come_1600': 1,\n",
       "             b'w': 3,\n",
       "             b'1600_w': 1,\n",
       "             b'less': 52,\n",
       "             b'w_less': 1,\n",
       "             b'bigger': 1,\n",
       "             b'less_bigger': 1,\n",
       "             b'bigger_dryer': 1,\n",
       "             b'heavy': 75,\n",
       "             b'dryer_heavy': 7,\n",
       "             b'heavy_blow': 1,\n",
       "             b'blow_hair': 8,\n",
       "             b'everywhere': 3,\n",
       "             b'hair_everywhere': 1,\n",
       "             b'surprising': 2,\n",
       "             b'everywhere_surprising': 1,\n",
       "             b'amount': 11,\n",
       "             b'surprising_amount': 1,\n",
       "             b'power': 87,\n",
       "             b'amount_power': 2,\n",
       "             b'compact': 31,\n",
       "             b'power_compact': 2,\n",
       "             b'would': 160,\n",
       "             b'compact_would': 1,\n",
       "             b'give': 51,\n",
       "             b'would_give': 5,\n",
       "             b'five': 9,\n",
       "             b'give_five': 3,\n",
       "             b'except': 6,\n",
       "             b'five_except': 1,\n",
       "             b'switch': 47,\n",
       "             b'except_switch': 1,\n",
       "             b'switch_easy': 1,\n",
       "             b'turn': 47,\n",
       "             b'easy_turn': 1,\n",
       "             b'one': 309,\n",
       "             b'turn_one': 3,\n",
       "             b'hand': 41,\n",
       "             b'one_hand': 4,\n",
       "             b'noisy': 17,\n",
       "             b'hand_noisy': 1,\n",
       "             b'anticipate': 3,\n",
       "             b'noisy_anticipate': 1,\n",
       "             b'love_dryer': 20,\n",
       "             b'style': 39,\n",
       "             b'style_hair': 10,\n",
       "             b'hair_style': 3,\n",
       "             b'get': 198,\n",
       "             b'last': 89,\n",
       "             b'get_last': 1,\n",
       "             b'week': 35,\n",
       "             b'last_week': 2,\n",
       "             b'think': 63,\n",
       "             b'week_think': 1,\n",
       "             b'think_great': 2,\n",
       "             b'cord': 97,\n",
       "             b'great_cord': 1,\n",
       "             b'length': 20,\n",
       "             b'cord_length': 3,\n",
       "             b'perfect': 45,\n",
       "             b'length_perfect': 1,\n",
       "             b'excellent': 42,\n",
       "             b'excellent_dryer': 4,\n",
       "             b'gets': 5,\n",
       "             b'extremely': 7,\n",
       "             b'gets_extremely': 1,\n",
       "             b'hot': 114,\n",
       "             b'extremely_hot': 1,\n",
       "             b'burn': 28,\n",
       "             b'hot_burn': 2,\n",
       "             b'burn_hand': 3,\n",
       "             b'metal': 6,\n",
       "             b'hand_metal': 1,\n",
       "             b'grate': 1,\n",
       "             b'metal_grate': 1,\n",
       "             b'well': 181,\n",
       "             b'grate_well': 1,\n",
       "             b'plastic': 15,\n",
       "             b'well_plastic': 1,\n",
       "             b'body': 5,\n",
       "             b'plastic_body': 1,\n",
       "             b'use': 405,\n",
       "             b'body_use': 1,\n",
       "             b'keep': 58,\n",
       "             b'use_keep': 1,\n",
       "             b'counter': 8,\n",
       "             b'keep_counter': 3,\n",
       "             b'counter_hot': 1,\n",
       "             b'put': 29,\n",
       "             b'hot_put': 3,\n",
       "             b'away': 20,\n",
       "             b'put_away': 2,\n",
       "             b'melt': 7,\n",
       "             b'away_melt': 1,\n",
       "             b'2': 52,\n",
       "             b'melt_2': 1,\n",
       "             b'different': 31,\n",
       "             b'2_different': 1,\n",
       "             b'comb': 11,\n",
       "             b'different_comb': 1,\n",
       "             b'start': 32,\n",
       "             b'comb_start': 1,\n",
       "             b'smoke': 8,\n",
       "             b'start_smoke': 3,\n",
       "             b'smoke_use': 1,\n",
       "             b'use_hair': 13,\n",
       "             b'require': 6,\n",
       "             b'hair_require': 1,\n",
       "             b'high': 100,\n",
       "             b'require_high': 1,\n",
       "             b'heat': 138,\n",
       "             b'high_heat': 11,\n",
       "             b'heat_dry': 2,\n",
       "             b'completely': 11,\n",
       "             b'dry_completely': 2,\n",
       "             b'frizzy': 22,\n",
       "             b'completely_frizzy': 1,\n",
       "             b'unsafe': 1,\n",
       "             b'frizzy_unsafe': 1,\n",
       "             b'ridiculous': 1,\n",
       "             b'unsafe_ridiculous': 1,\n",
       "             b'soon': 4,\n",
       "             b'ridiculous_soon': 1,\n",
       "             b'new': 49,\n",
       "             b'soon_new': 1,\n",
       "             b'new_model': 6,\n",
       "             b'arrive': 10,\n",
       "             b'model_arrive': 1,\n",
       "             b'brand': 24,\n",
       "             b'arrive_brand': 1,\n",
       "             b'go': 72,\n",
       "             b'brand_go': 1,\n",
       "             b'trash': 3,\n",
       "             b'go_trash': 2,\n",
       "             b'find': 46,\n",
       "             b'everything': 12,\n",
       "             b'find_everything': 1,\n",
       "             b'everything_go': 1,\n",
       "             b'go_well': 1,\n",
       "             b'well_except': 1,\n",
       "             b'plug': 28,\n",
       "             b'except_plug': 1,\n",
       "             b'left': 2,\n",
       "             b'plug_left': 1,\n",
       "             b'right': 31,\n",
       "             b'left_right': 2,\n",
       "             b'opposite': 2,\n",
       "             b'right_opposite': 1,\n",
       "             b'opposite_put': 1,\n",
       "             b'put_plug': 1,\n",
       "             b'upside': 4,\n",
       "             b'plug_upside': 1,\n",
       "             b'charge': 2,\n",
       "             b'upside_charge': 1,\n",
       "             b'another': 45,\n",
       "             b'charge_another': 1,\n",
       "             b'flaw': 3,\n",
       "             b'another_flaw': 1,\n",
       "             b'flaw_big': 1,\n",
       "             b'noise': 20,\n",
       "             b'big_noise': 1,\n",
       "             b'really': 126,\n",
       "             b'like': 214,\n",
       "             b'really_like': 18,\n",
       "             b'hairdryer': 68,\n",
       "             b'like_hairdryer': 2,\n",
       "             b'long': 110,\n",
       "             b'hairdryer_long': 1,\n",
       "             b'work': 241,\n",
       "             b'long_work': 2,\n",
       "             b'work_well': 48,\n",
       "             b'got': 5,\n",
       "             b'tho': 2,\n",
       "             b'got_tho': 1,\n",
       "             b'super': 30,\n",
       "             b'tho_super': 1,\n",
       "             b'sale': 5,\n",
       "             b'super_sale': 1,\n",
       "             b'sale_love': 1,\n",
       "             b'cuts': 2,\n",
       "             b'love_cuts': 1,\n",
       "             b'drying': 27,\n",
       "             b'cuts_drying': 1,\n",
       "             b'time': 161,\n",
       "             b'drying_time': 9,\n",
       "             b'half': 26,\n",
       "             b'time_half': 7,\n",
       "             b'reckon': 1,\n",
       "             b'year': 145,\n",
       "             b'reckon_year': 1,\n",
       "             b'least': 19,\n",
       "             b'year_least': 1,\n",
       "             b'7': 9,\n",
       "             b'least_7': 1,\n",
       "             b'month': 82,\n",
       "             b'7_month': 2,\n",
       "             b'month_works': 1,\n",
       "             b'great_use': 2,\n",
       "             b'5': 34,\n",
       "             b'use_5': 2,\n",
       "             b'day': 54,\n",
       "             b'5_day': 1,\n",
       "             b'day_week': 2,\n",
       "             b'week_blow': 1,\n",
       "             b'blow_hot': 5,\n",
       "             b'air': 105,\n",
       "             b'hot_air': 12,\n",
       "             b'overheat': 5,\n",
       "             b'air_overheat': 1,\n",
       "             b'overheat_big': 1,\n",
       "             b'big_come': 1,\n",
       "             b'quick': 19,\n",
       "             b'come_quick': 1,\n",
       "             b'cost': 9,\n",
       "             b'quick_cost': 1,\n",
       "             b'much': 95,\n",
       "             b'cost_much': 1,\n",
       "             b'much_get': 2,\n",
       "             b'get_one': 4,\n",
       "             b'one_like': 4,\n",
       "             b'tip': 6,\n",
       "             b'style_tip': 1,\n",
       "             b'stay': 28,\n",
       "             b'tip_stay': 1,\n",
       "             b'stay_keep': 1,\n",
       "             b'fall': 15,\n",
       "             b'keep_fall': 2,\n",
       "             b'middle': 3,\n",
       "             b'fall_middle': 1,\n",
       "             b'middle_blow': 1,\n",
       "             b'blow_drying': 4,\n",
       "             b'drying_hot': 1,\n",
       "             b'back': 67,\n",
       "             b'put_back': 4,\n",
       "             b'nice': 85,\n",
       "             b'nice_hair': 9,\n",
       "             b'hair_dryer': 368,\n",
       "             b'dual': 8,\n",
       "             b'dryer_dual': 2,\n",
       "             b'voltage': 21,\n",
       "             b'dual_voltage': 8,\n",
       "             b'voltage_come': 1,\n",
       "             b'handy': 8,\n",
       "             b'come_handy': 2,\n",
       "             b'product': 155,\n",
       "             b'great_product': 26,\n",
       "             b'took': 4,\n",
       "             b'product_took': 1,\n",
       "             b'anywhere': 1,\n",
       "             b'took_anywhere': 1,\n",
       "             b'30': 12,\n",
       "             b'anywhere_30': 1,\n",
       "             b'40': 3,\n",
       "             b'30_40': 1,\n",
       "             b'min': 4,\n",
       "             b'40_min': 1,\n",
       "             b'min_blow': 1,\n",
       "             b'blow_dry': 33,\n",
       "             b'client': 3,\n",
       "             b'dry_client': 1,\n",
       "             b'client_hair': 1,\n",
       "             b'old': 77,\n",
       "             b'hair_old': 1,\n",
       "             b'old_blow': 3,\n",
       "             b'drier': 15,\n",
       "             b'blow_drier': 4,\n",
       "             b'drier_new': 1,\n",
       "             b'new_one': 12,\n",
       "             b'cut': 22,\n",
       "             b'one_cut': 1,\n",
       "             b'cut_time': 4,\n",
       "             b'lot': 46,\n",
       "             b'half_lot': 1,\n",
       "             b'lot_power': 8,\n",
       "             b'power_great': 1,\n",
       "             b'deal': 12,\n",
       "             b'great_deal': 5,\n",
       "             b'n': 1,\n",
       "             b'deal_n': 1,\n",
       "             b'n_super': 1,\n",
       "             b'cute': 9,\n",
       "             b'super_cute': 2,\n",
       "             b'update': 13,\n",
       "             b'cute_update': 1,\n",
       "             b'update_7': 2,\n",
       "             b'8': 8,\n",
       "             b'7_8': 3,\n",
       "             b'8_month': 4,\n",
       "             b'later': 11,\n",
       "             b'month_later': 4,\n",
       "             b'later_blow': 1,\n",
       "             b'cold': 22,\n",
       "             b'blow_cold': 3,\n",
       "             b'cold_air': 7,\n",
       "             b'recommend': 72,\n",
       "             b'air_recommend': 1,\n",
       "             b'recommend_drier': 1,\n",
       "             b'price': 102,\n",
       "             b'drier_price': 1,\n",
       "             b'sell': 5,\n",
       "             b'price_sell': 1,\n",
       "             b'rubbish': 1,\n",
       "             b'sell_rubbish': 1,\n",
       "             b'like_well': 1,\n",
       "             b'well_one': 4,\n",
       "             b'quiet': 51,\n",
       "             b'bought': 22,\n",
       "             b'quiet_bought': 1,\n",
       "             b'replace': 39,\n",
       "             b'bought_replace': 1,\n",
       "             b'girlfriend': 9,\n",
       "             b'replace_girlfriend': 1,\n",
       "             b'stupid': 1,\n",
       "             b'girlfriend_stupid': 1,\n",
       "             b'loud': 40,\n",
       "             b'stupid_loud': 1,\n",
       "             b'loud_blow': 1,\n",
       "             b'wake': 3,\n",
       "             b'dryer_wake': 1,\n",
       "             b'every': 30,\n",
       "             b'wake_every': 1,\n",
       "             b'morning': 8,\n",
       "             b'every_morning': 2,\n",
       "             b'thing': 60,\n",
       "             b'morning_thing': 1,\n",
       "             b'thing_much': 1,\n",
       "             b'much_easy': 3,\n",
       "             b'ear': 3,\n",
       "             b'easy_ear': 1,\n",
       "             b'good': 212,\n",
       "             b'good_dryer': 6,\n",
       "             b'dryer_nice': 3,\n",
       "             b'attachment': 73,\n",
       "             b'nice_attachment': 2,\n",
       "             b'light': 60,\n",
       "             b'attachment_light': 1,\n",
       "             b'light_powerful': 3,\n",
       "             b'drawback': 3,\n",
       "             b'powerful_drawback': 1,\n",
       "             b'drawback_switch': 1,\n",
       "             b'switch_hand': 1,\n",
       "             b'mousse': 1,\n",
       "             b'hand_mousse': 1,\n",
       "             b'oil': 4,\n",
       "             b'mousse_oil': 1,\n",
       "             b'forget': 7,\n",
       "             b'oil_forget': 1,\n",
       "             b'forget_turn': 1,\n",
       "             b'without': 42,\n",
       "             b'turn_without': 1,\n",
       "             b'struggle': 1,\n",
       "             b'without_struggle': 1,\n",
       "             b'struggle_switch': 1,\n",
       "             b'grip': 9,\n",
       "             b'switch_grip': 1,\n",
       "             b'grip_heavy': 1,\n",
       "             b'groove': 1,\n",
       "             b'heavy_groove': 1,\n",
       "             b'make': 102,\n",
       "             b'groove_make': 1,\n",
       "             b'make_turn': 2,\n",
       "             b'turn_easy': 1,\n",
       "             b'overall': 16,\n",
       "             b'easy_overall': 1,\n",
       "             b'overall_good': 1,\n",
       "             b'live': 10,\n",
       "             b'live_hairdryer': 1,\n",
       "             b'perfect_travel': 4,\n",
       "             b'thanks': 10,\n",
       "             b'dryer_year': 9,\n",
       "             b'finally': 26,\n",
       "             b'year_finally': 3,\n",
       "             b'finally_start': 2,\n",
       "             b'smoking': 2,\n",
       "             b'start_smoking': 2,\n",
       "             b'spark': 13,\n",
       "             b'smoking_spark': 1,\n",
       "             b'bad': 20,\n",
       "             b'spark_bad': 1,\n",
       "             b'believe': 9,\n",
       "             b'bad_believe': 1,\n",
       "             b'believe_would': 1,\n",
       "             b'catch': 8,\n",
       "             b'would_catch': 1,\n",
       "             b'fire': 14,\n",
       "             b'catch_fire': 4,\n",
       "             b'fire_turn': 1,\n",
       "             b'turn_last': 1,\n",
       "             b'6months': 1,\n",
       "             b'last_6months': 1,\n",
       "             b'longer': 27,\n",
       "             b'6months_longer': 1,\n",
       "             b'notice': 22,\n",
       "             b'longer_notice': 1,\n",
       "             b'1st': 1,\n",
       "             b'notice_1st': 1,\n",
       "             b'1st_turn': 1,\n",
       "             b'smell': 16,\n",
       "             b'turn_smell': 1,\n",
       "             b'smell_really': 1,\n",
       "             b'really_hot': 5,\n",
       "             b'flow': 13,\n",
       "             b'air_flow': 10,\n",
       "             b'low': 64,\n",
       "             b'flow_low': 1,\n",
       "             b'fiddle': 2,\n",
       "             b'low_fiddle': 1,\n",
       "             b'fiddle_heat': 1,\n",
       "             b'control': 29,\n",
       "             b'heat_control': 4,\n",
       "             b'cool': 96,\n",
       "             b'control_cool': 1,\n",
       "             b'button': 78,\n",
       "             b'cool_button': 10,\n",
       "             b'gradually': 1,\n",
       "             b'button_gradually': 1,\n",
       "             b'begin': 5,\n",
       "             b'gradually_begin': 1,\n",
       "             b'begin_blow': 1,\n",
       "             b'normal': 3,\n",
       "             b'blow_normal': 1,\n",
       "             b'normal_flow': 1,\n",
       "             b'flow_use': 1,\n",
       "             b'cheap': 24,\n",
       "             b'use_cheap': 2,\n",
       "             b'cheap_blow': 2,\n",
       "             b'past': 18,\n",
       "             b'dryer_past': 6,\n",
       "             b'past_get': 1,\n",
       "             b'minimum': 5,\n",
       "             b'get_minimum': 1,\n",
       "             b'3': 65,\n",
       "             b'minimum_3': 1,\n",
       "             b'3_5': 2,\n",
       "             b'yr': 4,\n",
       "             b'5_yr': 1,\n",
       "             b'ts': 1,\n",
       "             b'yr_ts': 1,\n",
       "             b'weekend': 2,\n",
       "             b'ts_weekend': 1,\n",
       "             b'andis': 6,\n",
       "             b'weekend_andis': 1,\n",
       "             b'close': 7,\n",
       "             b'andis_close': 1,\n",
       "             b'attempt': 2,\n",
       "             b'close_attempt': 1,\n",
       "             b'contact': 6,\n",
       "             b'attempt_contact': 1,\n",
       "             b'see': 30,\n",
       "             b'contact_see': 1,\n",
       "             b'anything': 15,\n",
       "             b'see_anything': 1,\n",
       "             b'willing': 2,\n",
       "             b'anything_willing': 1,\n",
       "             b'refund': 8,\n",
       "             b'willing_refund': 1,\n",
       "             b'repair': 2,\n",
       "             b'refund_repair': 1,\n",
       "             b'even': 56,\n",
       "             b'repair_even': 1,\n",
       "             b'even_replace': 1,\n",
       "             b'unit': 36,\n",
       "             b'replace_unit': 3,\n",
       "             b'please': 10,\n",
       "             b'unit_please': 1,\n",
       "             b'note': 5,\n",
       "             b'please_note': 1,\n",
       "             b'website': 3,\n",
       "             b'note_website': 1,\n",
       "             b'website_half': 1,\n",
       "             b'half_blow': 1,\n",
       "             b'seem': 44,\n",
       "             b'dryer_seem': 3,\n",
       "             b'discontinue': 1,\n",
       "             b'seem_discontinue': 1,\n",
       "             b'hmm': 1,\n",
       "             b'discontinue_hmm': 1,\n",
       "             b'wonder': 3,\n",
       "             b'hmm_wonder': 1,\n",
       "             b'wonder_update': 1,\n",
       "             b'review': 52,\n",
       "             b'update_review': 3,\n",
       "             b'hear': 12,\n",
       "             b'review_hear': 1,\n",
       "             b'hear_hear': 1,\n",
       "             b'hear_back': 1,\n",
       "             b'company': 10,\n",
       "             b'back_company': 1,\n",
       "             b'handy_work': 1,\n",
       "             b'work_great': 44,\n",
       "             b'free': 17,\n",
       "             b'great_free': 1,\n",
       "             b'free_counter': 1,\n",
       "             b'top': 10,\n",
       "             b'counter_top': 1,\n",
       "             b'space': 11,\n",
       "             b'top_space': 1,\n",
       "             b'small': 73,\n",
       "             b'space_small': 1,\n",
       "             b'bathroom': 30,\n",
       "             b'small_bathroom': 2,\n",
       "             b'blowdryer': 20,\n",
       "             b'use_blowdryer': 2,\n",
       "             b'probably': 20,\n",
       "             b'blowdryer_probably': 1,\n",
       "             b'probably_8': 1,\n",
       "             b'10years': 1,\n",
       "             b'8_10years': 1,\n",
       "             b'decide': 19,\n",
       "             b'10years_decide': 1,\n",
       "             b'upgrade': 3,\n",
       "             b'decide_upgrade': 2,\n",
       "             b'upgrade_new': 1,\n",
       "             b'thick': 44,\n",
       "             b'one_thick': 1,\n",
       "             b'thick_thick': 2,\n",
       "             b'moderately': 2,\n",
       "             b'thick_moderately': 1,\n",
       "             b'wavy': 10,\n",
       "             b'moderately_wavy': 1,\n",
       "             b'shoulder': 13,\n",
       "             b'wavy_shoulder': 1,\n",
       "             b'shoulder_length': 8,\n",
       "             b'length_hair': 9,\n",
       "             b'due': 9,\n",
       "             b'hair_due': 1,\n",
       "             b'due_hair': 1,\n",
       "             b'thickness': 1,\n",
       "             b'hair_thickness': 1,\n",
       "             b'thickness_dry': 1,\n",
       "             b'dry_time': 11,\n",
       "             b'typically': 3,\n",
       "             b'time_typically': 1,\n",
       "             b'typically_30': 1,\n",
       "             b'45minutes': 1,\n",
       "             b'30_45minutes': 1,\n",
       "             b'wish': 33,\n",
       "             b'45minutes_wish': 1,\n",
       "             b'joke': 6,\n",
       "             b'wish_joke': 1,\n",
       "             b'joke_dryer': 2,\n",
       "             b'dryer_dry': 14,\n",
       "             b'15': 15,\n",
       "             b'completely_15': 1,\n",
       "             b'minute': 45,\n",
       "             b'15_minute': 6,\n",
       "             b'10': 30,\n",
       "             b'minute_10': 1,\n",
       "             b'12minutes': 1,\n",
       "             b'10_12minutes': 1,\n",
       "             b'precisely': 1,\n",
       "             b'12minutes_precisely': 1,\n",
       "             b'thrilled': 1,\n",
       "             b'precisely_thrilled': 1,\n",
       "             b'thrilled_dryer': 1,\n",
       "             b'say': 62,\n",
       "             b'dryer_say': 5,\n",
       "             b'enough': 39,\n",
       "             b'say_enough': 1,\n",
       "             b'enough_good': 1,\n",
       "             b'good_thing': 3,\n",
       "             b'thing_like': 2,\n",
       "             b'texture': 5,\n",
       "             b'like_texture': 1,\n",
       "             b'texture_dryer': 2,\n",
       "             b'dryer_love': 10,\n",
       "             b'speed': 65,\n",
       "             b'love_speed': 1,\n",
       "             b'speed_drying': 2,\n",
       "             b'drying_cord': 1,\n",
       "             b'cord_long': 2,\n",
       "             b'long_enough': 2,\n",
       "             b'actually': 25,\n",
       "             b'enough_actually': 1,\n",
       "             b'able': 17,\n",
       "             b'actually_able': 1,\n",
       "             b'able_use': 5,\n",
       "             b'score': 6,\n",
       "             b'use_score': 1,\n",
       "             b'great_wish': 1,\n",
       "             b'medium': 23,\n",
       "             b'wish_medium': 1,\n",
       "             b'setting': 125,\n",
       "             b'medium_setting': 4,\n",
       "             b'blowdry': 2,\n",
       "             b'blowdry_hair': 2,\n",
       "             b'hair_least': 1,\n",
       "             b'least_3': 1,\n",
       "             b'3_time': 6,\n",
       "             b'time_week': 2,\n",
       "             b'week_use': 4,\n",
       "             b'use_really': 4,\n",
       "             b'really_really': 1,\n",
       "             b'really_old': 1,\n",
       "             b'old_cheap': 1,\n",
       "             b'bulky': 6,\n",
       "             b'cheap_bulky': 1,\n",
       "             b'bulky_one': 1,\n",
       "             b'one_get': 3,\n",
       "             b'job': 50,\n",
       "             b'get_job': 10,\n",
       "             b'job_dryer': 1,\n",
       "             b'dryer_get': 9,\n",
       "             b'job_lot': 2,\n",
       "             b'lot_well': 1,\n",
       "             b'well_small': 1,\n",
       "             b'lighter': 2,\n",
       "             b'small_lighter': 1,\n",
       "             b'ergonomic': 3,\n",
       "             b'lighter_ergonomic': 1,\n",
       "             b'ergonomic_dry': 1,\n",
       "             b'dry_long': 7,\n",
       "             b'long_thick': 7,\n",
       "             b'thick_hair': 23,\n",
       "             b'always': 35,\n",
       "             b'hair_always': 1,\n",
       "             b'always_good': 2,\n",
       "             b'reasonably': 4,\n",
       "             b'thing_reasonably': 1,\n",
       "             b'reasonably_quick': 1,\n",
       "             b'quick_great': 1,\n",
       "             b'purchase': 75,\n",
       "             b'great_purchase': 4,\n",
       "             b'purchase_long': 2,\n",
       "             b'long_last': 1,\n",
       "             b'last_long': 11,\n",
       "             b'long_old': 1,\n",
       "             b'old_one': 16,\n",
       "             b'love_keep': 1,\n",
       "             b'curls': 2,\n",
       "             b'keep_curls': 1,\n",
       "             b'curls_nice': 1,\n",
       "             b'frizz': 50,\n",
       "             b'nice_frizz': 1,\n",
       "             b'bonnet': 12,\n",
       "             b'bonnet_small': 1,\n",
       "             b'really_nice': 6,\n",
       "             b'remington': 38,\n",
       "             b'dryer_remington': 2,\n",
       "             b'handle': 45,\n",
       "             b'remington_handle': 1,\n",
       "             b'handle_control': 2,\n",
       "             b'control_ergonomic': 1,\n",
       "             b'head': 24,\n",
       "             b'ergonomic_head': 1,\n",
       "             b'head_well': 1,\n",
       "             b'balance': 2,\n",
       "             b'well_balance': 1,\n",
       "             b'balance_get': 1,\n",
       "             b'chore': 2,\n",
       "             b'get_chore': 1,\n",
       "             b'handling': 1,\n",
       "             b'chore_handling': 1,\n",
       "             b'handling_heat': 1,\n",
       "             b'heat_setting': 31,\n",
       "             b'expect': 37,\n",
       "             b'setting_expect': 1,\n",
       "             b'expect_dryer': 1,\n",
       "             b'dryer_good': 12,\n",
       "             b'good_job': 3,\n",
       "             b'job_get': 1,\n",
       "             b'get_hair': 8,\n",
       "             b'hair_dry': 43,\n",
       "             b'fast': 63,\n",
       "             b'dry_fast': 4,\n",
       "             b'fast_without': 2,\n",
       "             b'without_much': 3,\n",
       "             b'static': 5,\n",
       "             b'much_static': 1,\n",
       "             b'buildup': 1,\n",
       "             b'static_buildup': 1,\n",
       "             b'buildup_really': 1,\n",
       "             b'like_dryer': 12,\n",
       "             b'generous': 1,\n",
       "             b'dryer_generous': 1,\n",
       "             b'generous_cord': 1,\n",
       "             b'ability': 3,\n",
       "             b'length_ability': 1,\n",
       "             b'ability_hand': 1,\n",
       "             b'hand_dryer': 1,\n",
       "             b'hook': 6,\n",
       "             b'dryer_hook': 1,\n",
       "             b'hook_attachment': 1,\n",
       "             b'fit': 30,\n",
       "             b'attachment_fit': 3,\n",
       "             b'fit_well': 4,\n",
       "             b'diffuser': 66,\n",
       "             b'well_diffuser': 3,\n",
       "             b'diffuser_attachment': 12,\n",
       "             b'attachment_come': 2,\n",
       "             b'handiest': 1,\n",
       "             b'come_handiest': 1,\n",
       "             b'handiest_always': 1,\n",
       "             b'great_blowdryer': 5,\n",
       "             b'blowdryer_get': 1,\n",
       "             b'job_thing': 1,\n",
       "             b'dislike': 1,\n",
       "             b'thing_dislike': 1,\n",
       "             b'compatible': 1,\n",
       "             b'dislike_compatible': 1,\n",
       "             b'universal': 3,\n",
       "             b'compatible_universal': 1,\n",
       "             b'universal_comb': 1,\n",
       "             b'comb_attachment': 5,\n",
       "             b'also': 74,\n",
       "             b'attachment_also': 3,\n",
       "             b'also_blowdry': 1,\n",
       "             b'hair_attachment': 2,\n",
       "             b'attachment_keep': 1,\n",
       "             b'amazing': 16,\n",
       "             b'amazing_amount': 1,\n",
       "             b'amount_air': 1,\n",
       "             b'air_come': 4,\n",
       "             b'wife': 27,\n",
       "             b'come_wife': 1,\n",
       "             b'wife_love': 8,\n",
       "             b'wait': 14,\n",
       "             b'love_wait': 1,\n",
       "             b'wait_time': 1,\n",
       "             b'time_go': 1,\n",
       "             b'go_cut': 1,\n",
       "             b'cut_half': 1,\n",
       "             b'highly': 25,\n",
       "             b'half_highly': 1,\n",
       "             b'recommended': 5,\n",
       "             b'highly_recommended': 2,\n",
       "             b'feels': 3,\n",
       "             b'recommended_feels': 1,\n",
       "             b'solid': 8,\n",
       "             b'feels_solid': 2,\n",
       "             b'solid_like': 1,\n",
       "             b'like_get': 2,\n",
       "             b'money': 28,\n",
       "             b'get_money': 1,\n",
       "             b'worth': 25,\n",
       "             b'money_worth': 1,\n",
       "             b'worth_nice': 1,\n",
       "             b'nice_long': 2,\n",
       "             b'long_cord': 7,\n",
       "             b'far': 32,\n",
       "             b'far_excellent': 1,\n",
       "             b'excellent_hair': 5,\n",
       "             b'dryer_noisy': 2,\n",
       "             b'noisy_good': 1,\n",
       "             b'good_control': 1,\n",
       "             b'control_handle': 2,\n",
       "             b'handle_well': 1,\n",
       "             b'contoured': 1,\n",
       "             b'well_contoured': 1,\n",
       "             b'nit': 1,\n",
       "             b'contoured_nit': 1,\n",
       "             b'little': 93,\n",
       "             b'nit_little': 1,\n",
       "             b'little_plastic': 1,\n",
       "             b'plastic_attachment': 1,\n",
       "             b'direct': 2,\n",
       "             b'attachment_direct': 1,\n",
       "             b'stream': 2,\n",
       "             b'direct_stream': 1,\n",
       "             b'warm': 24,\n",
       "             b'stream_warm': 1,\n",
       "             b'warm_hot': 6,\n",
       "             b'pop': 10,\n",
       "             b'air_pop': 1,\n",
       "             b'pop_little': 1,\n",
       "             b'easily': 26,\n",
       "             b'little_easily': 1,\n",
       "             b'item': 28,\n",
       "             b'item_work': 1,\n",
       "             b'perfectly': 15,\n",
       "             b'work_perfectly': 6,\n",
       "             b'fine': 71,\n",
       "             b'perfectly_fine': 1,\n",
       "             b'glad': 18,\n",
       "             b'fine_glad': 1,\n",
       "             b'order': 25,\n",
       "             b'glad_order': 2,\n",
       "             b'hard': 16,\n",
       "             b'hard_find': 2,\n",
       "             b'find_small': 2,\n",
       "             b'small_blowdryer': 1,\n",
       "             b'happy': 35,\n",
       "             b'blowdryer_happy': 1,\n",
       "             b'great_dryer': 20,\n",
       "             b'look': 92,\n",
       "             b'exactly': 13,\n",
       "             b'look_exactly': 1,\n",
       "             b'photo': 2,\n",
       "             b'exactly_photo': 1,\n",
       "             b'photo_light': 1,\n",
       "             b'weight': 44,\n",
       "             b'light_weight': 22,\n",
       "             b'weight_work': 1,\n",
       "             b'work_like': 4,\n",
       "             b'charm': 1,\n",
       "             b'like_charm': 1,\n",
       "             b'charm_would': 1,\n",
       "             b'definitely': 38,\n",
       "             b'would_definitely': 9,\n",
       "             b'definitely_recommend': 10,\n",
       "             b'strong': 31,\n",
       "             b'small_strong': 1,\n",
       "             b'strong_great': 1,\n",
       "             b'dryer_travel': 3,\n",
       "             b'travel_also': 1,\n",
       "             b'also_dual': 1,\n",
       "             b'voltage_glad': 1,\n",
       "             b'buy': 152,\n",
       "             b'glad_buy': 2,\n",
       "             b'original': 8,\n",
       "             b'good_original': 1,\n",
       "             b'conair': 43,\n",
       "             b'original_conair': 2,\n",
       "             b'1875': 16,\n",
       "             b'conair_1875': 6,\n",
       "             b'makeovers': 1,\n",
       "             b'1875_makeovers': 1,\n",
       "             b'makeovers_upgrade': 1,\n",
       "             b'upgrade_always': 1,\n",
       "             b'yield': 1,\n",
       "             b'always_yield': 1,\n",
       "             b'best': 69,\n",
       "             b'yield_best': 1,\n",
       "             b'result': 20,\n",
       "             b'best_result': 1,\n",
       "             b'instance': 1,\n",
       "             b'result_instance': 1,\n",
       "             b'instance_1875': 1,\n",
       "             b'replica': 1,\n",
       "             b'1875_replica': 1,\n",
       "             b'lacks': 1,\n",
       "             b'replica_lacks': 1,\n",
       "             b'basic': 7,\n",
       "             b'lacks_basic': 1,\n",
       "             b'function': 13,\n",
       "             b'basic_function': 2,\n",
       "             b'function_blow': 1,\n",
       "             b'temperature': 14,\n",
       "             b'dryer_temperature': 1,\n",
       "             b'adjustment': 1,\n",
       "             b'temperature_adjustment': 1,\n",
       "             b'adjustment_setting': 1,\n",
       "             b'setting_high': 6,\n",
       "             b'high_low': 8,\n",
       "             b'fan': 19,\n",
       "             b'low_fan': 1,\n",
       "             b'fan_speed': 4,\n",
       "             b'speed_also': 2,\n",
       "             b'also_order': 1,\n",
       "             b'order_use': 1,\n",
       "             b'use_air': 1,\n",
       "             b'feature': 34,\n",
       "             b'air_feature': 2,\n",
       "             b'feature_heat': 1,\n",
       "             b'heat_cool': 3,\n",
       "             b'press': 6,\n",
       "             b'button_press': 2,\n",
       "             b'hold': 51,\n",
       "             b'press_hold': 1,\n",
       "             b'hold_use': 2,\n",
       "             b'use_basic': 1,\n",
       "             b'cause': 17,\n",
       "             b'function_cause': 1,\n",
       "             b'person': 6,\n",
       "             b'cause_person': 1,\n",
       "             b'finger': 9,\n",
       "             b'person_finger': 1,\n",
       "             b'finger_get': 1,\n",
       "             b'tired': 3,\n",
       "             b'get_tired': 2,\n",
       "             b'tired_hold': 1,\n",
       "             b'hold_button': 3,\n",
       "             b'button_use': 5,\n",
       "             b'sliding': 1,\n",
       "             b'use_sliding': 1,\n",
       "             b'sliding_switch': 1,\n",
       "             b'retracted': 1,\n",
       "             b'switch_retracted': 1,\n",
       "             b'retracted_cord': 1,\n",
       "             b'miss': 9,\n",
       "             b'cord_miss': 1,\n",
       "             b'miss_probably': 1,\n",
       "             b'valuable': 2,\n",
       "             b'probably_valuable': 1,\n",
       "             b'valuable_feature': 1,\n",
       "             b'feature_original': 1,\n",
       "             b'made': 2,\n",
       "             b'1875_made': 1,\n",
       "             b'made_dryer': 1,\n",
       "             b'dryer_much': 5,\n",
       "             b'portable': 4,\n",
       "             b'much_portable': 1,\n",
       "             b'portable_even': 1,\n",
       "             b'useful': 8,\n",
       "             b'even_useful': 1,\n",
       "             b'useful_travel': 1,\n",
       "             b'travel_new': 1,\n",
       "             b'new_1875': 1,\n",
       "             b'1875_cord': 1,\n",
       "             b'sprawl': 1,\n",
       "             b'cord_sprawl': 1,\n",
       "             b'sprawl_bathroom': 1,\n",
       "             b'bathroom_counter': 2,\n",
       "             b'counter_original': 1,\n",
       "             b'original_much': 1,\n",
       "             b'much_good': 10,\n",
       "             b'slightly': 10,\n",
       "             b'good_slightly': 1,\n",
       "             b'slightly_small': 2,\n",
       "             b'small_10': 1,\n",
       "             b'watt': 14,\n",
       "             b'10_watt': 1,\n",
       "             b'watt_power': 1,\n",
       "             b'directional': 3,\n",
       "             b'power_directional': 1,\n",
       "             b'directional_air': 1,\n",
       "             b'controller': 1,\n",
       "             b'air_controller': 1,\n",
       "             b'controller_overall': 1,\n",
       "             b'overall_worth': 1,\n",
       "             b'investment': 6,\n",
       "             b'worth_investment': 1,\n",
       "             b'seems': 4,\n",
       "             b'seems_work': 1,\n",
       "             b'well_easy': 2,\n",
       "             b'mount': 20,\n",
       "             b'easy_mount': 2,\n",
       "             b'wall': 23,\n",
       "             b'mount_wall': 5,\n",
       "             b'2nd': 4,\n",
       "             b'2nd_time': 1,\n",
       "             b'time_buy': 2,\n",
       "             b'buy_little': 2,\n",
       "             b'little_hair': 4,\n",
       "             b'dryer_like': 8,\n",
       "             b'like_much': 8,\n",
       "             b'first': 48,\n",
       "             b'much_first': 1,\n",
       "             b'first_one': 11,\n",
       "             b'one_finally': 2,\n",
       "             b'bite': 2,\n",
       "             b'finally_bite': 2,\n",
       "             b'dust': 5,\n",
       "             b'bite_dust': 2,\n",
       "             b'dust_3': 1,\n",
       "             b'3_year': 8,\n",
       "             b'year_small': 1,\n",
       "             b'lightweight': 31,\n",
       "             b'small_lightweight': 5,\n",
       "             b'plus': 22,\n",
       "             b'lightweight_plus': 1,\n",
       "             b'suitcase': 5,\n",
       "             b'plus_suitcase': 1,\n",
       "             b'still': 63,\n",
       "             b'suitcase_still': 1,\n",
       "             b'still_powerful': 1,\n",
       "             b'powerful_enough': 2,\n",
       "             b'enough_blow': 3,\n",
       "             b'hair_fast': 16,\n",
       "             b'short': 37,\n",
       "             b'fast_short': 1,\n",
       "             b'short_hair': 12,\n",
       "             b'sweet': 1,\n",
       "             b'hair_sweet': 1,\n",
       "             b'sweet_little': 1,\n",
       "             b'little_dryer': 9,\n",
       "             b'need': 87,\n",
       "             b'dryer_need': 2,\n",
       "             b'need_dry': 3,\n",
       "             ...})"
      ]
     },
     "execution_count": 62,
     "metadata": {},
     "output_type": "execute_result"
    }
   ],
   "source": [
    "from gensim.models import Phrases\n",
    "from gensim.models.phrases import Phraser\n",
    "\n",
    "bi_gram = Phrases(tokenized, min_count=10, threshold=1000)\n",
    "\n",
    "tri_gram = Phrases(bi_gram[tokenized], threshold=50)\n",
    "\n",
    "tri_gram.vocab"
   ]
  },
  {
   "cell_type": "markdown",
   "metadata": {},
   "source": [
    "### Unigrams ###\n",
    "Unigrams are single pieces of tokens. The code below takes all the unique words from the entire corpora and prints a sample:"
   ]
  },
  {
   "cell_type": "code",
   "execution_count": 63,
   "metadata": {},
   "outputs": [
    {
     "name": "stdout",
     "output_type": "stream",
     "text": [
      "['across', 'gradually', 'spouse', 'lotion', 'feedback', 'pixiecurl', 'word', 'smoothing', 'buying', 'anticipate', 'grab', 'case', 'girlfriend', 'reckon', 'cant', 'poorly', 'nanocare', 'fair', 'silly', 'risk', 'company', '9', 'sink', 'france', 'length', 'furthermore', 'permanently', 'properly', 'low', 'us', 'mild', 'd3190a', 'sooner', 'damage', 'value', 'thats', 'activate', 'freak', 'read', 'shirt', 'discreet', 'airplane', 'budget', 'nicely', 'think', 'cleaning', 'exterior', 'ups', 'im', 'north']\n",
      "2671\n"
     ]
    }
   ],
   "source": [
    "uni_gram_tokens = set([token for text in tokenized for token in text])\n",
    "uni_gram_tokens = set(filter(lambda x: x != \"\", uni_gram_tokens))\n",
    "\n",
    "print(list(uni_gram_tokens)[:50])\n",
    "print(len(list(uni_gram_tokens)))"
   ]
  },
  {
   "cell_type": "markdown",
   "metadata": {},
   "source": [
    "### Bigrams ###\n",
    "Bigrams are generated from using the *gensim* phraser. Only those that pass the `bi_gram` criteria are considered.\n",
    "\n",
    "The code below takes all the unique bigram phrases from the entire corpora:"
   ]
  },
  {
   "cell_type": "code",
   "execution_count": 64,
   "metadata": {},
   "outputs": [
    {
     "name": "stdout",
     "output_type": "stream",
     "text": [
      "['', 'buy_hair', 'good_hair', 'cool_button', 'good_product', 'thick_hair', 'best_hair', 'style_hair', '10_year', 'definitely_recommend', 'long_dry', 'old_one', 'speed_setting', 'great_hair', 'time_use', 'dryer_great', 'long_hair', 'buy_one', 'really_like', 'three_heat', 'work_great', 'hair_dry', 'like_dryer', 'air_flow', 'br_br', 'dryer_love', 'light_weight', 'hair_faster', 'hair_fast', 'great_dryer', 'last_long', 'retractable_cord', 'make_hair', 'works_great', 'dryer_come', 'work_well', 'use_dryer', 'great_product', 'feel_like', 'use_one', 'easy_use', 'buy_another', 'dryer_use', 'dry_quickly', 'year_ago', 'little_heavy', 'love_love', 'shot_button', 'hair_look', 'really_well']\n"
     ]
    }
   ],
   "source": [
    "bigram_min = bi_gram.min_count\n",
    "\n",
    "bi_condition = lambda x: x[1] >= bigram_min\n",
    "\n",
    "bi_gram_tokens = dict(filter(bi_condition, bi_gram.vocab.items()))\n",
    "bi_gram_tokens = set([token.decode(\"utf-8\") \\\n",
    "                      for token in bi_gram_tokens])\n",
    "\n",
    "bi_grams_only = bi_gram_tokens.difference(uni_gram_tokens)\n",
    "print(list(bi_grams_only)[:50])"
   ]
  },
  {
   "cell_type": "markdown",
   "metadata": {},
   "source": [
    "### Trigrams ###\n",
    "Trigrams are generated by applying another *gensim* phraser on top of a bigram phraser. Take for example the tokens *sd* and *card*. Because they appear often together enough, they become linked together as *sd_card*. In turn, if *sd_card* appears adjacent to the token *reader* in enough instances, then the `tri_gram` model would link them together as well to tokenize *sd_card_reader*.\n",
    "\n",
    "The code below takes all the unique trigram phrases from the entire corpora:"
   ]
  },
  {
   "cell_type": "code",
   "execution_count": 65,
   "metadata": {},
   "outputs": [
    {
     "name": "stdout",
     "output_type": "stream",
     "text": [
      "['blow_air', 'removable_filter', 'br_hair', 'mount_wall', 'worth_money', 'would_work', 'used', 'husband', 'nice_hair', 'dog', 'beat_price', 'three_month', 'girlfriend', 'dryer_one', 'period', '3_heat', 'really_hot', 'would_give', 'section', 'sleek', 'high_speed', 'sink', 'yes', 'use_also', 'must', 'expectation', 'work_perfectly', 'properly', 'somewhat', 'd3190a', 'dries_hair', 'abroad', 'read_review', 'easy_pack', 'regular', 'body', 'remove', 'nicely', 'one_last', 'dryer_say', 'onei', 'great_buy', 'new_model', 'straight_hair', 'conair_1875', 'past_year', 'saw', 'warranty', 'got', 'time_half']\n"
     ]
    }
   ],
   "source": [
    "trigram_min = tri_gram.min_count\n",
    "\n",
    "tri_condition = lambda x: x[1] >= trigram_min\n",
    "\n",
    "tri_gram_tokens = dict(filter(tri_condition, tri_gram.vocab.items()))\n",
    "tri_gram_tokens = set([token.decode(\"utf-8\") \\\n",
    "                       for token in tri_gram_tokens])\n",
    "\n",
    "tri_grams_only = tri_gram_tokens.difference(bi_gram_tokens)\n",
    "print(list(tri_grams_only)[:50])"
   ]
  },
  {
   "cell_type": "markdown",
   "metadata": {},
   "source": [
    "The `tri_gram` and `bi_gram` phrasers are applied to our `tokenized` corpora."
   ]
  },
  {
   "cell_type": "code",
   "execution_count": 66,
   "metadata": {
    "scrolled": true
   },
   "outputs": [],
   "source": [
    "tokenized = [Phraser(tri_gram)[Phraser(bi_gram)[i]] for i in tokenized]"
   ]
  },
  {
   "cell_type": "markdown",
   "metadata": {},
   "source": [
    "Single-character tokens are removed from every tokenized document. Our tokenized review, in its final form, is below."
   ]
  },
  {
   "cell_type": "code",
   "execution_count": 67,
   "metadata": {},
   "outputs": [
    {
     "name": "stdout",
     "output_type": "stream",
     "text": [
      "['best', 'hair', 'dryer', 'ever', 'purchase', 'provide', 'ton', 'power', 'loud', 'dry', 'hair', 'quickly', 'hsve', 'shut', 'issue', 'like', 'dryer', 'use', 'bed', 'head', 'brand', 'seem', 'expert', 'field', 'make', 'product', 'work', 'well', 'hold', 'well', 'last', 'long', 'time', 'complaint']\n"
     ]
    }
   ],
   "source": [
    "tokenized = [list(filter(lambda x: len(x) > 1, document)) \\\n",
    "             for document in tokenized]\n",
    "\n",
    "print(tokenized[465])"
   ]
  },
  {
   "cell_type": "markdown",
   "metadata": {},
   "source": [
    "## Creating the Vocabulary ##\n",
    "The `vocabulary` is the key-value pairs of all the unique tokens from every product review. Each token is assigned a lookup ID. The first 10 words in our dictionary are as follows:"
   ]
  },
  {
   "cell_type": "code",
   "execution_count": null,
   "metadata": {
    "scrolled": false
   },
   "outputs": [],
   "source": [
    "from gensim.corpora.dictionary import Dictionary\n",
    "\n",
    "vocabulary = Dictionary(tokenized)\n",
    "\n",
    "vocabulary_keys = list(vocabulary.token2id)[0:10]\n",
    "\n",
    "for key in vocabulary_keys:\n",
    "    print(f\"ID: {vocabulary.token2id[key]}, Token: {key}\")"
   ]
  },
  {
   "cell_type": "markdown",
   "metadata": {},
   "source": [
    "## Count-based Feature Engineering ##\n",
    "In order for a machine learning model to work with text input, the document must first be *vectorized*. This simply means that the input has to be converted into containers of numerical values.\n",
    "\n",
    "### Bag of Words Model ###\n",
    "The classical approach in expressing text as a set of features is getting the token frequency. Each entry to the dataframe is a document while each column corresponds to every unique token in the entire corpora. The row will identify how many times a word appears in the document. The `bow` model for the sample review is below:"
   ]
  },
  {
   "cell_type": "code",
   "execution_count": null,
   "metadata": {},
   "outputs": [],
   "source": [
    "bow = [vocabulary.doc2bow(doc) for doc in tokenized]\n",
    "\n",
    "for idx, freq in bow[0]:\n",
    "    print(f\"Word: {vocabulary.get(idx)}, Frequency: {freq}\")"
   ]
  },
  {
   "cell_type": "markdown",
   "metadata": {},
   "source": [
    "### TF-IDF Model ###\n",
    "The Term Frequency-Inverse Document Frequency (*TF-IDF*) approach assigns continuous values instead of simple integers for the token frequency. Words that appear frequently overall tend to not establish saliency in a document, and are thus weighted lower. Words that are unique to some documents tend to help distinguish it from the rest and are thus weighted higher. The `tfidf` weighting is based on our `bow` variable."
   ]
  },
  {
   "cell_type": "code",
   "execution_count": null,
   "metadata": {},
   "outputs": [],
   "source": [
    "from gensim.models.tfidfmodel import TfidfModel\n",
    "\n",
    "tfidf = TfidfModel(bow)\n",
    "\n",
    "for idx, weight in tfidf[bow[0]]:\n",
    "    print(f\"Word: {vocabulary.get(idx)}, Weight: {weight:.3f}\")"
   ]
  },
  {
   "cell_type": "markdown",
   "metadata": {},
   "source": [
    "## Word Embedding for Feature Engineering ##\n",
    "The downside of count-based techniques is that without regard to word sequence and sentence structure, the semantics get lost. The *Word2Vec* technique, on the other hand, actually embeds meaning in vectors by quantifying how often a word appears within the vicinity of a given set of other words.\n",
    "\n",
    "A context window the span of `context_size` slides across every document one token at a time. In each step, the center word is described by its adjacent words and the probability that the token appears together with the others is expressed in `feature_size` dimensions. Since the minimum word requirement is set to `1`, every token in the corpora is embedded in the *Word2Vec* model."
   ]
  },
  {
   "cell_type": "code",
   "execution_count": null,
   "metadata": {},
   "outputs": [],
   "source": [
    "import numpy as np\n",
    "\n",
    "from gensim.models import word2vec\n",
    "\n",
    "np.set_printoptions(suppress=True)\n",
    "\n",
    "feature_size = 100\n",
    "context_size = 20\n",
    "min_word = 1\n",
    "\n",
    "word_vec= word2vec.Word2Vec(tokenized, size=feature_size, \\\n",
    "                            window=context_size, min_count=min_word, \\\n",
    "                            iter=50, seed=42)"
   ]
  },
  {
   "cell_type": "markdown",
   "metadata": {},
   "source": [
    "## Final Dataframe ##\n",
    "The goal is to have a dataframe with observations corresponding to the product reviews. The `word_vec` model is used to gather all the unique tokens in the corpora. This enables us to generate the `word_vec_df` which makes use of the dimensions as the features of every word."
   ]
  },
  {
   "cell_type": "code",
   "execution_count": null,
   "metadata": {},
   "outputs": [],
   "source": [
    "word_vec_unpack = [(word, idx.index) for word, idx in \\\n",
    "                   word_vec.wv.vocab.items()]\n",
    "\n",
    "tokens, indexes = zip(*word_vec_unpack)\n",
    "\n",
    "word_vec_df = pd.DataFrame(word_vec.wv.syn0[indexes, :], index=tokens)\n",
    "\n",
    "display(word_vec_df.head())"
   ]
  },
  {
   "cell_type": "markdown",
   "metadata": {},
   "source": [
    "The `word_vec_df` is sliced by the words that appear in a given `tokenized` review and the mean along every dimension is taken. The resulting `model_array` shape is therefore the word count on *axis 0* and the number of dimensions on *axis 1*. This singularizes multiple word embeddings into one observation for each review.\n",
    "\n",
    "If multiple occurrences of a word occurs in a review, then this only emphasizes the token since the row is pulled towards the values of the vectors of that word."
   ]
  },
  {
   "cell_type": "code",
   "execution_count": null,
   "metadata": {},
   "outputs": [],
   "source": [
    "tokenized_array = np.array(tokenized)\n",
    "\n",
    "model_array = np.array([word_vec_df.loc[doc].mean(axis=0) for doc in tokenized_array])"
   ]
  },
  {
   "cell_type": "markdown",
   "metadata": {},
   "source": [
    "Every document is provided the ground truth label by imposing its `overall` rating. This completes our finalized `model_df` dataframe."
   ]
  },
  {
   "cell_type": "code",
   "execution_count": null,
   "metadata": {
    "scrolled": false
   },
   "outputs": [],
   "source": [
    "model_df = pd.DataFrame(model_array)\n",
    "model_df[\"label\"] = df[\"star_rating\"]\n",
    "\n",
    "display(model_df.head())"
   ]
  },
  {
   "cell_type": "markdown",
   "metadata": {},
   "source": [
    "## Principal Component Analysis ##\n",
    "Principal Component Analysis (*PCA*) is a dimensionality reduction technique that we can use on our `model_df` to reduce its 100 dimensions to just two dimensions. This will help visualize if there is a clear decision boundary along the five `overall` rating classifications. The more datapoints belonging to the same class are clustered together, the higher the likelihood that our machine learning model is simpler and more effective."
   ]
  },
  {
   "cell_type": "code",
   "execution_count": null,
   "metadata": {},
   "outputs": [],
   "source": [
    "import matplotlib.pyplot as plt\n",
    "\n",
    "from sklearn.decomposition import PCA\n",
    "\n",
    "#sampling the model_df population\n",
    "pca_df = model_df.reset_index()\n",
    "pca_df = model_df.dropna(axis=0).iloc[:,1:]\n",
    "pca_df = pca_df.iloc[::50]\n",
    "\n",
    "#setting up PCA\n",
    "pca = PCA(n_components=2, random_state=42)\n",
    "pca = pca.fit_transform(pca_df.iloc[:, :-1])\n",
    "labels = pca_df[\"label\"]\n",
    "\n",
    "#setting up plot components\n",
    "x_axis = pca[:,0]\n",
    "y_axis = pca[:,1]\n",
    "color_map = pca_df[\"label\"].map({1:\"blue\", \\\n",
    "                                 2:\"red\", \\\n",
    "                                 3:\"yellow\", \\\n",
    "                                 4:\"green\", \\\n",
    "                                 5:\"orange\"})\n",
    "\n",
    "#plotting PCA\n",
    "f, axes = plt.subplots(figsize=(20,10))\n",
    "plt.scatter(x_axis, y_axis, color=color_map, s=1)\n",
    "plt.show()"
   ]
  },
  {
   "cell_type": "markdown",
   "metadata": {},
   "source": [
    "# Exploratory Data Analysis #\n",
    "We'll implement several interesting Natural Language Processing techniques in order to explore our Amazon dataset.\n",
    "\n",
    "## More on Word2Vec ##\n",
    "To better appreciate the concept of word embeddings, we take five common words in our corpora and derive their five most related words using our `word_vec` model. The similarity comes from how often these tokens appear in the same window of words as their `word_bank` counterpart."
   ]
  },
  {
   "cell_type": "code",
   "execution_count": null,
   "metadata": {},
   "outputs": [],
   "source": [
    "word_bank = [\"great\", \"work\", \"bad\", \"good\", \"price\"]\n",
    "\n",
    "for word in word_bank[:]:\n",
    "    related_vec = word_vec.wv.most_similar(word, topn=5)\n",
    "    related_words = np.array(related_vec)[:,0]\n",
    "    word_bank.extend(related_words)\n",
    "    print(f\"{word}: {related_words}\")"
   ]
  },
  {
   "cell_type": "markdown",
   "metadata": {},
   "source": [
    "### t-SNE ###\n",
    "Like PCA, the t-Distributed Stochastic Neighbor Embedding (*t-SNE*) is another dimensionality reduction technique that assists in visualizing high-dimensional datasets. To perceive the similarity between the related words in terms of spatial distance, t-SNE provided the coordinates of each word in a 2D scatterplot plane."
   ]
  },
  {
   "cell_type": "code",
   "execution_count": null,
   "metadata": {},
   "outputs": [],
   "source": [
    "from sklearn.manifold import TSNE\n",
    "\n",
    "tsne = TSNE(n_components=2, perplexity=5, n_iter=1000, random_state=42)\n",
    "\n",
    "sample_vecs = word_vec.wv[set(word_bank)]\n",
    "sample_tsne = tsne.fit_transform(sample_vecs)\n",
    "tsne_x = sample_tsne[:, 0]\n",
    "tsne_y = sample_tsne[:, 1]\n",
    "\n",
    "f, axes = plt.subplots(figsize=(20,7))\n",
    "ax = plt.scatter(x=tsne_x, y=tsne_y)\n",
    "\n",
    "for label, x, y in zip(word_bank, tsne_x, tsne_y):\n",
    "    plt.annotate(label, xy=(x+3, y+3))\n",
    "\n",
    "plt.show()"
   ]
  },
  {
   "cell_type": "markdown",
   "metadata": {},
   "source": [
    "### Word Algebra ###\n",
    "Since *Word2Vec* characterizes words into quantified tokens, we can consequently add or subtract word vectors together. To add is to combine the meaning of the components and to subtract is to take out the context of one token from another. The following are examples of this vector algebra and their similarity scores:\n",
    "\n",
    "**Books + Touchscreen**"
   ]
  },
  {
   "cell_type": "code",
   "execution_count": null,
   "metadata": {},
   "outputs": [],
   "source": [
    "word_vec.wv.most_similar(positive=[\"hair\", \"dry\"], \\\n",
    "                      negative=[], topn=1)"
   ]
  },
  {
   "cell_type": "markdown",
   "metadata": {},
   "source": [
    "**Cheap – Quality**"
   ]
  },
  {
   "cell_type": "code",
   "execution_count": null,
   "metadata": {},
   "outputs": [],
   "source": [
    "word_vec.wv.most_similar(positive=[\"cheap\"], \\\n",
    "                      negative=[\"quality\"], topn=1)"
   ]
  },
  {
   "cell_type": "markdown",
   "metadata": {},
   "source": [
    "**Tablet – Phone**"
   ]
  },
  {
   "cell_type": "code",
   "execution_count": null,
   "metadata": {},
   "outputs": [],
   "source": [
    "word_vec.wv.most_similar(positive=[\"hot\"], \\\n",
    "                      negative=[\"cool\"], topn=1)"
   ]
  },
  {
   "cell_type": "markdown",
   "metadata": {},
   "source": [
    "## Named-Entity Recognition ###\n",
    "We've seen *gensim* perform word tagging to identify part-of-speech. Now we use *spaCy* to go further and identify what nouns in the documents refer to. Some Named-Entity Recognition (*NER*) classification tags include distinguishing persons, organizations, products, places, dates, etc.\n",
    "\n",
    "In exploring *spaCy*, we'll be using the `most_helpful_text`, which is the highest-rated product review by Amazon users. The `helpful` series from the `df` dataframe is actually a list with its first element storing the number of *helpful* votes a review received, and the second element containing the total number of *helpful* and *not helpful* review votes."
   ]
  },
  {
   "cell_type": "code",
   "execution_count": null,
   "metadata": {
    "scrolled": true
   },
   "outputs": [],
   "source": [
    "helpful = df[\"helpful_votes\"].tolist()\n",
    "print(helpful)"
   ]
  },
  {
   "cell_type": "code",
   "execution_count": null,
   "metadata": {},
   "outputs": [],
   "source": [
    "most_helpful = max(helpful)\n",
    "print(most_helpful)\n",
    "\n"
   ]
  },
  {
   "cell_type": "code",
   "execution_count": null,
   "metadata": {},
   "outputs": [],
   "source": [
    "most_helpful_idx = df[\"helpful_votes\"].astype(str) == str(most_helpful)\n",
    "most_helpful_idx = df[most_helpful_idx].index\n",
    "\n",
    "most_helpful_text = df[\"review_body\"].iloc[most_helpful_idx].values[0]\n",
    "\n",
    "print(most_helpful_text)"
   ]
  },
  {
   "cell_type": "markdown",
   "metadata": {},
   "source": [
    "We use `ner_dict`, a dictionary initialized as a list, to segregate the nouns in the `most_helpful_text` into the NER tags."
   ]
  },
  {
   "cell_type": "code",
   "execution_count": null,
   "metadata": {
    "scrolled": true
   },
   "outputs": [],
   "source": [
    "import spacy\n",
    "\n",
    "from collections import defaultdict\n",
    "\n",
    "ner = spacy.load(\"en\")\n",
    "\n",
    "ner_helpful = ner(most_helpful_text)\n",
    "\n",
    "ner_dict = defaultdict(list)\n",
    "for entity in ner_helpful.ents:\n",
    "    ner_dict[entity.label_].append(entity)\n",
    "\n",
    "for NER, name in ner_dict.items():\n",
    "    print(f\"{NER}:\\n{name}\\n\")"
   ]
  },
  {
   "cell_type": "markdown",
   "metadata": {},
   "source": [
    "We use `displaCy` to visualize the tags in the review."
   ]
  },
  {
   "cell_type": "code",
   "execution_count": null,
   "metadata": {},
   "outputs": [],
   "source": [
    "from spacy import displacy\n",
    "\n",
    "displacy.render(ner_helpful, style=\"ent\", jupyter=True)"
   ]
  },
  {
   "cell_type": "markdown",
   "metadata": {},
   "source": [
    "## Dependency Tree ##\n",
    "The capability of *spaCy'*s NER is based on deciphering the structure of the sentence by breaking down how tokens interact with and influence each other. Below is the dependency trees of the first three sentences of the `most_helpful_text`."
   ]
  },
  {
   "cell_type": "code",
   "execution_count": null,
   "metadata": {},
   "outputs": [],
   "source": [
    "def ner_displacy(sentence):\n",
    "    ner_sentence = ner(sentence)\n",
    "    displacy.render(ner_sentence, jupyter=True, \\\n",
    "                    options={\"compact\": False, \\\n",
    "                             \"distance\": 90, \\\n",
    "                             \"word_spacing\":20, \\\n",
    "                             \"arrow_spacing\":10, \\\n",
    "                             \"arrow_stroke\": 2, \\\n",
    "                             \"arrow_width\": 5})\n",
    "\n",
    "for sentence in most_helpful_text.split(\".\")[0:3]:\n",
    "    ner_displacy(sentence)"
   ]
  },
  {
   "cell_type": "markdown",
   "metadata": {},
   "source": [
    "## Topic Modeling ##\n"
   ]
  },
  {
   "cell_type": "markdown",
   "metadata": {},
   "source": [
    "Because Latent Dirichlet Allocation (*LDA*) can cluster documents together according to topic, the reviews can be classified and grouped according to the type of electronics product they correspond to. The product reviews will have weights assigned to each of the topic and the topics themselves will have weights on every token. As it is a clustering-based model, LDA is unsupervised and only the `num_topics` is configurable.\n",
    "\n",
    "The following are the top five words that are salient to the first group of product reviews."
   ]
  },
  {
   "cell_type": "code",
   "execution_count": null,
   "metadata": {},
   "outputs": [],
   "source": [
    "import multiprocessing\n",
    "\n",
    "from gensim.models.ldamulticore import LdaMulticore\n",
    "\n",
    "cores = multiprocessing.cpu_count()\n",
    "\n",
    "num_topics = 10\n",
    "bow_lda = LdaMulticore(bow, num_topics=num_topics, id2word=vocabulary, \\\n",
    "                       passes=5, workers=cores, random_state=42)\n",
    "\n",
    "for token, frequency in bow_lda.show_topic(0, topn=5):\n",
    "    print(token, frequency)"
   ]
  },
  {
   "cell_type": "markdown",
   "metadata": {},
   "source": [
    "The words that are the most characteristic of the topics are indeed thematic. And each word group do conjure a distinct topic."
   ]
  },
  {
   "cell_type": "code",
   "execution_count": null,
   "metadata": {},
   "outputs": [],
   "source": [
    "for topic in range(0, num_topics):\n",
    "    print(f\"\\nTopic {topic+1}:\")\n",
    "    for token, frequency in bow_lda.show_topic(topic, topn=5):\n",
    "        print(f\" {token}, {frequency}\")"
   ]
  },
  {
   "cell_type": "markdown",
   "metadata": {},
   "source": [
    "Using *pyLDAvis*, we can interactively explore the words associated with the topics derived by LDA. The Intertopic Distance Map shows how some product reviews in one topic converge with others due to similarity. If needed, we can adjust the `num_topics` accordingly to cluster together topic intersections so a more evident decision boundary between classes can be established."
   ]
  },
  {
   "cell_type": "code",
   "execution_count": null,
   "metadata": {},
   "outputs": [],
   "source": [
    "import pyLDAvis.gensim\n",
    "\n",
    "lda_idm = pyLDAvis.gensim.prepare(bow_lda, bow, vocabulary)\n",
    "\n",
    "pyLDAvis.display(lda_idm)"
   ]
  },
  {
   "cell_type": "markdown",
   "metadata": {},
   "source": [
    "# Machine Learning #\n",
    "We'll further process our finalized dataframe in order to make it compatible and easy to pipe into our Machine Learning model."
   ]
  },
  {
   "cell_type": "markdown",
   "metadata": {},
   "source": [
    "## Dealing with NaNs ##\n",
    "It is important that we impute NaN values before we feed them into a model because machine learning algorithms can only work with *real* numbers. Our dataframe was derived from employing a *Word2Vec* model and so the only way we could have invalid entries that would become NaN values is when we have empty documents.\n",
    "\n",
    "If a review contains no tokens then every dimension would become NaN. And so to find out the indices of NaN documents, we just have to filter reviews that have a NaN on the first dimension (or any dimension at all)."
   ]
  },
  {
   "cell_type": "code",
   "execution_count": null,
   "metadata": {},
   "outputs": [],
   "source": [
    "nan_list = model_df[model_df[0].isna()].index\n",
    "nan_list = nan_list.tolist()\n",
    "\n",
    "print(nan_list[0:50])"
   ]
  },
  {
   "cell_type": "markdown",
   "metadata": {},
   "source": [
    "Indeed, inspecting these documents brings us empty lists which tell us that there are no tokens in the review."
   ]
  },
  {
   "cell_type": "code",
   "execution_count": null,
   "metadata": {},
   "outputs": [],
   "source": [
    "print(*[tokenized[blank] for blank in nan_list[0:5]])"
   ]
  },
  {
   "cell_type": "markdown",
   "metadata": {},
   "source": [
    "Imposing these indices to our `df`, we can extract what these reviews originally looked like before tokenization and before all the pre-processing steps were performed. We see that, other than blanks, reviews that would become NaNs contain only minimal characters. The fourth entry is invalidated because in our steps, we have dropped all characters that are not alphanumeric leaving us with just the letter *A*. We have also chosen in our pre-processing that single-characters would not be tokenized. The fourth review would therefore end up as an empty list after our NLP steps."
   ]
  },
  {
   "cell_type": "code",
   "execution_count": null,
   "metadata": {},
   "outputs": [],
   "source": [
    "for blank in nan_list[0:5]:\n",
    "    display(df[\"review_body\"].iloc[blank])"
   ]
  },
  {
   "cell_type": "markdown",
   "metadata": {},
   "source": [
    "The `model_df` is updated by dropping the NaN documents."
   ]
  },
  {
   "cell_type": "code",
   "execution_count": null,
   "metadata": {
    "scrolled": true
   },
   "outputs": [],
   "source": [
    "print(f\"Original 'model_df' count: {len(model_df)}\")\n",
    "print(f\"Final 'model_df' count: {len(model_df.dropna(axis=0))}\")\n",
    "\n",
    "model_df = model_df.dropna(axis=0)\n",
    "display(model_df.head())"
   ]
  },
  {
   "cell_type": "markdown",
   "metadata": {},
   "source": [
    "## Dealing with Unbalanced Data ##\n",
    "The distribution of ratings shows that, in general, users highly approve of products bought on Amazon. This however gives us a highly imbalanced dataset."
   ]
  },
  {
   "cell_type": "code",
   "execution_count": null,
   "metadata": {},
   "outputs": [],
   "source": [
    "import seaborn as sns\n",
    "\n",
    "f, axes = plt.subplots(figsize=(20,7))\n",
    "ax = sns.countplot(x=df[\"star_rating\"], palette=\"OrRd_r\")\n",
    "ax.set(title=\"Distribution of Product Ratings\", \\\n",
    "       xlabel=\"Rating\", ylabel=\"Number of Reviews\")\n",
    "plt.show()"
   ]
  },
  {
   "cell_type": "markdown",
   "metadata": {},
   "source": [
    "If the model simply classified every review as `5`, then an accuracy of around 60% can be achieved given this exact dataset. Since this would outperform predictions made by chance, we should therefore ensure that we stratify the testing set where we base the final score of the model.\n",
    "\n",
    "To deal with this we will have to take into account underrepresenting the majority and/or overrepresenting the minority."
   ]
  },
  {
   "cell_type": "code",
   "execution_count": null,
   "metadata": {
    "scrolled": true
   },
   "outputs": [],
   "source": [
    "majority = df[\"star_rating\"] == 5\n",
    "majority_ratio = len(df[majority]) / len(df)\n",
    "\n",
    "print(f\"{majority_ratio*100:.2f}%\")"
   ]
  },
  {
   "cell_type": "markdown",
   "metadata": {},
   "source": [
    "## Underrepresentation vs. Overrepresentation ##\n",
    "\n",
    "Performing over-representation is possible by bootstrapping the minority classes to match the size of the majority classes. This can be done using K-Nearest Neighbors (*KNN*) or via Support Vector Machine (*SVM*) by clustering a given class first before generating random samples within the decision boundaries of the class. A popular module called `SMOTE`, or *Synthetic Minority Over-sampling Technique*, does exactly this. However, since the imbalance in our classes is massive, and because we have 100 dimensions for each one of our almost 1.7 million observations, this approach is extremely computationally expensive.\n",
    "\n",
    "Because our dataset is huge, we can afford to perform sampling in every class and still have a significant amount of data for the model. This way, we can then opt to *underrepresent* the majority class according to our most minority class."
   ]
  },
  {
   "cell_type": "code",
   "execution_count": null,
   "metadata": {},
   "outputs": [],
   "source": [
    "count = len(model_df[model_df[\"label\"] == 2])\n",
    "print(f\"Size of the most underrepresented class: {count}\")"
   ]
  },
  {
   "cell_type": "markdown",
   "metadata": {},
   "source": [
    "In choosing this route to deal with imbalance, we create a trimmed version of our dataframe, `trimmed_df`. Each class is trimmed to have the same number of entries as the smallest class which is *Class 2*."
   ]
  },
  {
   "cell_type": "code",
   "execution_count": null,
   "metadata": {},
   "outputs": [],
   "source": [
    "#trim the majority class\n",
    "condition = model_df[\"label\"] == 5\n",
    "trimmed_df = model_df[condition].sample(n=count, random_state=42)\n",
    "\n",
    "#trim other class and add on to the trimmed_df\n",
    "for rating in [1, 2, 3, 4]:\n",
    "    condition = model_df[\"label\"] == rating\n",
    "    if len(model_df[condition]) >= count:\n",
    "        add_df = model_df[condition].sample(n=count, random_state=42)\n",
    "    else:\n",
    "        add_df = model_df[condition]\n",
    "    trimmed_df = pd.concat([trimmed_df, add_df], ignore_index=False)\n",
    "\n",
    "#display new class sizes of trimmed_df\n",
    "for rating in [1, 2, 3, 4, 5]:\n",
    "    class_size = len(trimmed_df[trimmed_df[\"label\"] == rating])\n",
    "    print(f\"Size of Class {rating}: {class_size}\")"
   ]
  },
  {
   "cell_type": "markdown",
   "metadata": {},
   "source": [
    "The `trimmed_df` is arranged by class from 1 to 5."
   ]
  },
  {
   "cell_type": "code",
   "execution_count": null,
   "metadata": {
    "scrolled": false
   },
   "outputs": [],
   "source": [
    "trimmed_df = trimmed_df.sort_values(by=\"label\")\n",
    "display(trimmed_df.head())"
   ]
  },
  {
   "cell_type": "markdown",
   "metadata": {},
   "source": [
    "We see that we now have a perfectly balanced dataset after we performed underrepresentation."
   ]
  },
  {
   "cell_type": "code",
   "execution_count": null,
   "metadata": {
    "scrolled": false
   },
   "outputs": [],
   "source": [
    "f, axes = plt.subplots(figsize=(20,7))\n",
    "ax = sns.countplot(x=trimmed_df[\"label\"], palette=\"OrRd_r\")\n",
    "ax.set(title=\"Distribution of Product Ratings after Underrepresentation\", \\\n",
    "       xlabel=\"Rating\", ylabel=\"Number of Reviews\")\n",
    "plt.show()"
   ]
  },
  {
   "cell_type": "markdown",
   "metadata": {},
   "source": [
    "## Train-Test Split ##\n",
    "The `y` is our target variable or the labels for the data. The `X` constitutes the features and are the predictor variables.\n",
    "\n",
    "We evenly split the training and testing sets and *stratify* to ensure the ratio of classes in both sets are identical."
   ]
  },
  {
   "cell_type": "code",
   "execution_count": null,
   "metadata": {},
   "outputs": [],
   "source": [
    "from sklearn.model_selection import train_test_split\n",
    "\n",
    "X = trimmed_df.iloc[:, :-1]\n",
    "y = trimmed_df.iloc[:, -1]\n",
    "\n",
    "X_train, X_test, y_train, y_test = train_test_split(X, y, stratify=y, test_size=0.5, random_state=42)"
   ]
  },
  {
   "cell_type": "markdown",
   "metadata": {},
   "source": [
    "## Scoring and Baseline ##\n",
    "In our study, we will make use of two metrics to measure the model performance:\n",
    "* Accuracy\n",
    "* F1 Score\n",
    "\n",
    "Accuracy will identify how many reviews are correctly labeled by the model. There are five ratings and thus five classes. No review can have two or more ratings and so the probability that a correct prediction is made from pure guesswork is `20%`.\n",
    "\n",
    "The F1 score is taking *precision* and *recall* into consideration. Taking into account false positives and false negatives for each class is especially important in inherently imbalanced datasets.\n",
    "\n",
    "The baseline scores below are for when a model only randomly guesses the output labels – in this case, when every prediction is the same class. The scores are also based on an evenly distributed dataset."
   ]
  },
  {
   "cell_type": "code",
   "execution_count": null,
   "metadata": {},
   "outputs": [],
   "source": [
    "from sklearn import metrics\n",
    "\n",
    "label_shape = np.shape(y_test)\n",
    "y_baseline = np.full(label_shape, 5)\n",
    "\n",
    "accuracy_baseline = metrics.accuracy_score(y_test, y_baseline)\n",
    "f1_score_baseline = metrics.f1_score(y_test, y_baseline, average=\"micro\")\n",
    "\n",
    "print(f\"Baseline Accuracy: {accuracy_baseline*100:.3f}%\")\n",
    "print(f\"Baseline F1 Score: {f1_score_baseline:.3f}\")"
   ]
  },
  {
   "cell_type": "markdown",
   "metadata": {},
   "source": [
    "## Random Forest ##\n",
    "Random Forest actually has a native way of supporting datasets that have class imbalance. We will therefore be able to use the original `model_df` instead of the sample `trimmed_df`:"
   ]
  },
  {
   "cell_type": "code",
   "execution_count": null,
   "metadata": {},
   "outputs": [],
   "source": [
    "from sklearn.model_selection import train_test_split\n",
    "\n",
    "X = model_df.iloc[:, :-1]\n",
    "y = model_df.iloc[:, -1]\n",
    "\n",
    "X_train, X_test, y_train, y_test = train_test_split(X, y, stratify=y, test_size=0.5, random_state=42)"
   ]
  },
  {
   "cell_type": "markdown",
   "metadata": {},
   "source": [
    "The `class_weight` attribute is provided with a dictionary that represents the associated weight of each class – the majority class is given a *1* and the rest are given the multiplying factor at which they would level with the largest class.\n",
    "\n",
    "The criteria chosen is `entropy` which is similar to `gini` but instead of splitting nodes until there are pure classes, the nodes are split until the classes within have equal probability."
   ]
  },
  {
   "cell_type": "code",
   "execution_count": null,
   "metadata": {},
   "outputs": [],
   "source": [
    "from sklearn.ensemble import RandomForestClassifier\n",
    "\n",
    "forest = RandomForestClassifier(n_estimators=25, class_weight={1:10, 2:12, 3:7, 4:9, 5:1}, \\\n",
    "                                criterion=\"entropy\", random_state=42)\n",
    "forest.fit(X_train, y_train)"
   ]
  },
  {
   "cell_type": "markdown",
   "metadata": {},
   "source": [
    "Our tuned Random Forest model got a very high score on the training data. The confusion matrix plotted below highlighted how the model almost perfectly classified each Amazon review accordingly.\n",
    "\n",
    "However, these scores may be misleading since they are based on the data that the model were trained on. This is highly likely a result of *overfitting*. It is then important to rate our model more effectively without digging into our reserved test set. "
   ]
  },
  {
   "cell_type": "code",
   "execution_count": null,
   "metadata": {},
   "outputs": [],
   "source": [
    "y_pred = forest.predict(X_train)\n",
    "\n",
    "accuracy = metrics.accuracy_score(y_train, y_pred)\n",
    "f1_score = metrics.f1_score(y_train, y_pred, average=\"micro\")\n",
    "\n",
    "print(f\"Training Set Accuracy: {accuracy*100:.3f}%\")\n",
    "print(f\"Training Set F1 Score: {f1_score:.3f}\")"
   ]
  },
  {
   "cell_type": "code",
   "execution_count": null,
   "metadata": {},
   "outputs": [],
   "source": [
    "from sklearn.metrics import confusion_matrix\n",
    "\n",
    "#create the confusion matrix of the training set\n",
    "confusion_train = confusion_matrix(y_train, y_pred)\n",
    "confusion_train = confusion_train.astype(\"float\") / \\\n",
    "                   confusion_train.sum(axis=1)[:, np.newaxis]\n",
    "confusion_train = np.around(confusion_train, decimals=3)*100\n",
    "\n",
    "#create confusion matrix heat map\n",
    "f, axes = plt.subplots(figsize=(20,10))\n",
    "im = axes.imshow(confusion_train, interpolation=\"nearest\", cmap=plt.cm.Reds)\n",
    "\n",
    "axes.figure.colorbar(im, ax=axes)\n",
    "axes.set(title=\"Confusion Matrix for Training Set\", \\\n",
    "         xticks=np.arange(confusion_train.shape[1]), \\\n",
    "         yticks=np.arange(confusion_train.shape[0]), \\\n",
    "         xticklabels=range(1, 6), yticklabels=range(1, 6), \\\n",
    "         xlabel=\"Predicted\", ylabel=\"Truth\")\n",
    "\n",
    "#add clear annotations to the confusion matrix\n",
    "threshold = confusion_train.max()/1.5\n",
    "for i in range(confusion_train.shape[0]):\n",
    "    for j in range(confusion_train.shape[1]):\n",
    "        axes.text(j, i, f\"{confusion_train[i, j]:.3f}%\",\n",
    "                ha=\"center\", va=\"center\",\n",
    "                color=\"white\" if confusion_train[i, j] > threshold else \"black\")\n",
    "f.tight_layout()\n",
    "plt.show()"
   ]
  },
  {
   "cell_type": "markdown",
   "metadata": {},
   "source": [
    "## Cross-Validation ##\n",
    "Cross-validation makes the most of the training data by splitting the training set into *folds* and further subjecting each fold to train-test splits. Cross-validation can thus test against overfitting and the resulting scores can better reflect how the model performs on data it has not seen before."
   ]
  },
  {
   "cell_type": "code",
   "execution_count": null,
   "metadata": {},
   "outputs": [],
   "source": [
    "from sklearn.model_selection import cross_val_score\n",
    "\n",
    "cross_val_accuracy = cross_val_score(forest, X_train, y_train, \\\n",
    "                               cv=3, scoring=\"accuracy\")\n",
    "cross_val_f1 = cross_val_score(forest, X_train, y_train, \\\n",
    "                               cv=3, scoring=\"f1_micro\")\n",
    "\n",
    "cross_val_accuracy = np.mean(cross_val_accuracy)\n",
    "cross_val_f1 = np.mean(cross_val_f1)\n",
    "\n",
    "print(f\"Training Set Accuracy: {cross_val_accuracy*100:.3f}%\")\n",
    "print(f\"Training Set F1 Score: {cross_val_f1:.3f}\")"
   ]
  },
  {
   "cell_type": "markdown",
   "metadata": {},
   "source": [
    "## XGBoost ##"
   ]
  },
  {
   "cell_type": "markdown",
   "metadata": {},
   "source": [
    "Let's now try to create a model based on a popular boosting technique and see how it compares with our Random Forest model (which is a tree-based bagging approach). XGBoost has become a staple in Kaggle competitions because of its high rate of success and its ease-of-use.\n",
    "\n",
    "The class notation for our *XGBoost* object `boost` begins from 0, and so we perform an element-wise shift of our labels *from 1 to 0*, *from 2 to 1*, *from 3 to 2*, etc. We tune our model using the maximum number of depths, the learning rate (*eta*), the number of classes, etc. We expect our outputs to be multi-class and so we select `softprob` as our *objective*."
   ]
  },
  {
   "cell_type": "code",
   "execution_count": null,
   "metadata": {},
   "outputs": [],
   "source": [
    "import xgboost as xgb\n",
    "\n",
    "y_train_shifted = y_train-1\n",
    "y_test_shifted = y_test-1\n",
    "\n",
    "train_set = xgb.DMatrix(X_train, label=y_train_shifted)\n",
    "test_set = xgb.DMatrix(X_test, label=y_test_shifted)\n",
    "\n",
    "parameters = {\"max_depth\": 10, \"eta\": 0.2, \"silent\": 1, \\\n",
    "              \"objective\": \"multi:softprob\", \"num_class\": 5}\n",
    "\n",
    "boost = xgb.train(parameters, train_set, 100)"
   ]
  },
  {
   "cell_type": "markdown",
   "metadata": {},
   "source": [
    "The array of predicted labels `y_pred` contains lists of probabilities for each class per product review. The class that is deemed most likely is chosen by the *argmax* and the labels are shifted back to their original state.\n",
    "\n",
    "The `micro` approach in averaging the F1 score means that the false positives, true positives, and false negatives are taken into account across all classes. This is in contrast with the `macro` approach that instead averages the F1 scores of each class independently."
   ]
  },
  {
   "cell_type": "code",
   "execution_count": null,
   "metadata": {},
   "outputs": [],
   "source": [
    "y_pred = boost.predict(train_set)\n",
    "y_pred = y_pred.argmax(axis=1)\n",
    "y_pred = y_pred+1\n",
    "\n",
    "accuracy = metrics.accuracy_score(y_train, y_pred)\n",
    "f1_score = metrics.f1_score(y_train, y_pred, average=\"micro\")\n",
    "\n",
    "print(f\"Training Set Accuracy: {accuracy*100:.3f}%\")\n",
    "print(f\"Training Set F1 Score: {f1_score:.3f}\")"
   ]
  },
  {
   "cell_type": "code",
   "execution_count": null,
   "metadata": {},
   "outputs": [],
   "source": [
    "#create the confusion matrix of the training set\n",
    "confusion_train = confusion_matrix(y_train, y_pred)\n",
    "confusion_train = confusion_train.astype(\"float\") / \\\n",
    "                   confusion_train.sum(axis=1)[:, np.newaxis]\n",
    "confusion_train = np.around(confusion_train, decimals=3)*100\n",
    "\n",
    "#create confusion matrix heat map\n",
    "f, axes = plt.subplots(figsize=(20,10))\n",
    "im = axes.imshow(confusion_train, interpolation=\"nearest\", cmap=plt.cm.Reds)\n",
    "\n",
    "axes.figure.colorbar(im, ax=axes)\n",
    "axes.set(title=\"Confusion Matrix for Training Set\", \\\n",
    "         xticks=np.arange(confusion_train.shape[1]), \\\n",
    "         yticks=np.arange(confusion_train.shape[0]), \\\n",
    "         xticklabels=range(1, 6), yticklabels=range(1, 6), \\\n",
    "         xlabel=\"Predicted\", ylabel=\"Truth\")\n",
    "\n",
    "#add clear annotations to the confusion matrix\n",
    "threshold = confusion_train.max()/1.5\n",
    "for i in range(confusion_train.shape[0]):\n",
    "    for j in range(confusion_train.shape[1]):\n",
    "        axes.text(j, i, f\"{confusion_train[i, j]:.3f}%\",\n",
    "                ha=\"center\", va=\"center\",\n",
    "                color=\"white\" if confusion_train[i, j] > threshold else \"black\")\n",
    "f.tight_layout()\n",
    "plt.show()"
   ]
  },
  {
   "cell_type": "markdown",
   "metadata": {},
   "source": [
    "To fairly compare our boosting results with our Random Forest outcome, we perform cross-validation on three folds of the training data set as well.\n",
    "\n",
    "However, since the XGBoost implementation we used is not supported by *scikit-learn*'s `.fit` method, the cross-validation must be done using `xgboost`'s own API. The output `boost_cv` is actually a *pandas* dataframe that tabulates the results of the cross-validation."
   ]
  },
  {
   "cell_type": "code",
   "execution_count": null,
   "metadata": {},
   "outputs": [],
   "source": [
    "boost_cv = xgb.cv(dtrain=train_set, params=parameters, nfold=3, \\\n",
    "                  num_boost_round=50, early_stopping_rounds=10, \\\n",
    "                  metrics=\"merror\", as_pandas=True, seed=42)\n",
    "\n",
    "display(boost_cv.head())"
   ]
  },
  {
   "cell_type": "markdown",
   "metadata": {},
   "source": [
    "We get the training set cross-validation score by getting the *merror* mean on the 50th `num_boost_round`, which is the final boosting phase. The *merror* is an accuracy error rate metric meant for multi-class labels.\n",
    "\n",
    "We can get a sense of how accurate the model is by subtracting the *merror* value from a perfect score of 100%."
   ]
  },
  {
   "cell_type": "code",
   "execution_count": null,
   "metadata": {},
   "outputs": [],
   "source": [
    "cross_val_accuracy = boost_cv.iloc[-1,2]\n",
    "cross_val_accuracy = 1-cross_val_accuracy\n",
    "\n",
    "print(f\"Training Set Accuracy: {cross_val_accuracy*100:.3f}%\")"
   ]
  },
  {
   "cell_type": "markdown",
   "metadata": {},
   "source": [
    "## Final Scores ##\n",
    "Seeing that the boosting model outperformed the Random Forest approach in the three-fold cross validation, we can now apply our model on the testing set that we have put aside early on."
   ]
  },
  {
   "cell_type": "code",
   "execution_count": null,
   "metadata": {},
   "outputs": [],
   "source": [
    "y_pred = boost.predict(test_set)\n",
    "y_pred = y_pred.argmax(axis=1)\n",
    "y_pred = y_pred+1\n",
    "\n",
    "accuracy = metrics.accuracy_score(y_test, y_pred)\n",
    "f1_score = metrics.f1_score(y_test, y_pred, average=\"micro\")\n",
    "\n",
    "print(f\"Test Set Accuracy: {accuracy*100:.3f}%\")\n",
    "print(f\"Test Set F1 Score: {f1_score:.3f}\")"
   ]
  },
  {
   "cell_type": "code",
   "execution_count": null,
   "metadata": {},
   "outputs": [],
   "source": [
    "#create the confusion matrix of the test set\n",
    "confusion_train = confusion_matrix(y_test, y_pred)\n",
    "confusion_train = confusion_train.astype(\"float\") / \\\n",
    "                   confusion_train.sum(axis=1)[:, np.newaxis]\n",
    "confusion_train = np.around(confusion_train, decimals=3)*100\n",
    "\n",
    "#create confusion matrix heat map\n",
    "f, axes = plt.subplots(figsize=(20,10))\n",
    "im = axes.imshow(confusion_train, interpolation=\"nearest\", cmap=plt.cm.Reds)\n",
    "\n",
    "axes.figure.colorbar(im, ax=axes)\n",
    "axes.set(title=\"Confusion Matrix for Test Set\", \\\n",
    "         xticks=np.arange(confusion_train.shape[1]), \\\n",
    "         yticks=np.arange(confusion_train.shape[0]), \\\n",
    "         xticklabels=range(1, 6), yticklabels=range(1, 6), \\\n",
    "         xlabel=\"Predicted\", ylabel=\"Truth\")\n",
    "\n",
    "#add clear annotations to the confusion matrix\n",
    "threshold = confusion_train.max()/1.5\n",
    "for i in range(confusion_train.shape[0]):\n",
    "    for j in range(confusion_train.shape[1]):\n",
    "        axes.text(j, i, f\"{confusion_train[i, j]:.3f}%\",\n",
    "                ha=\"center\", va=\"center\",\n",
    "                color=\"white\" if confusion_train[i, j] > threshold else \"black\")\n",
    "f.tight_layout()\n",
    "plt.show()"
   ]
  },
  {
   "cell_type": "markdown",
   "metadata": {},
   "source": [
    "Our results above were actually based on the original `model_df` dataset that had the massive class imbalance. Let's now reassign our `X` and `y` variables to the balanced `trimmed_df` sample dataset we've created."
   ]
  },
  {
   "cell_type": "code",
   "execution_count": null,
   "metadata": {},
   "outputs": [],
   "source": [
    "X = trimmed_df.iloc[:, :-1]\n",
    "y = trimmed_df.iloc[:, -1]\n",
    "\n",
    "X_train, X_test, y_train, y_test = train_test_split(X, y, stratify=y, test_size=0.5, random_state=42)"
   ]
  },
  {
   "cell_type": "code",
   "execution_count": null,
   "metadata": {},
   "outputs": [],
   "source": [
    "y_train_shifted = y_train-1\n",
    "y_test_shifted = y_test-1\n",
    "\n",
    "train_set = xgb.DMatrix(X_train, label=y_train_shifted)\n",
    "test_set = xgb.DMatrix(X_test, label=y_test_shifted)\n",
    "\n",
    "y_pred = boost.predict(test_set)\n",
    "y_pred = y_pred.argmax(axis=1)\n",
    "y_pred = y_pred+1\n",
    "\n",
    "accuracy = metrics.accuracy_score(y_test, y_pred)\n",
    "f1_score = metrics.f1_score(y_test, y_pred, average=\"micro\")\n",
    "\n",
    "print(f\"Balanced Test Set Accuracy: {accuracy*100:.3f}%\")\n",
    "print(f\"Balanced Test Set F1 Score: {f1_score:.3f}\")"
   ]
  },
  {
   "cell_type": "code",
   "execution_count": null,
   "metadata": {},
   "outputs": [],
   "source": [
    "#create the confusion matrix of the balanced test set\n",
    "confusion_train = confusion_matrix(y_test, y_pred)\n",
    "confusion_train = confusion_train.astype(\"float\") / \\\n",
    "                   confusion_train.sum(axis=1)[:, np.newaxis]\n",
    "confusion_train = np.around(confusion_train, decimals=3)*100\n",
    "\n",
    "#create confusion matrix heat map\n",
    "f, axes = plt.subplots(figsize=(20,10))\n",
    "im = axes.imshow(confusion_train, interpolation=\"nearest\", cmap=plt.cm.Reds)\n",
    "\n",
    "axes.figure.colorbar(im, ax=axes)\n",
    "axes.set(title=\"Confusion Matrix for Balanced Test Set\", \\\n",
    "         xticks=np.arange(confusion_train.shape[1]), \\\n",
    "         yticks=np.arange(confusion_train.shape[0]), \\\n",
    "         xticklabels=range(1, 6), yticklabels=range(1, 6), \\\n",
    "         xlabel=\"Predicted\", ylabel=\"Truth\")\n",
    "\n",
    "#add clear annotations to the confusion matrix\n",
    "threshold = confusion_train.max()/1.5\n",
    "for i in range(confusion_train.shape[0]):\n",
    "    for j in range(confusion_train.shape[1]):\n",
    "        axes.text(j, i, f\"{confusion_train[i, j]:.3f}%\",\n",
    "                ha=\"center\", va=\"center\",\n",
    "                color=\"white\" if confusion_train[i, j] > threshold else \"black\")\n",
    "f.tight_layout()\n",
    "plt.show()"
   ]
  },
  {
   "cell_type": "markdown",
   "metadata": {},
   "source": [
    "At 53.3% on a perfectly balanced training data set, we have achieved a better result compared to the 20% accuracy of our baseline.\n",
    "\n",
    "## Word Cloud ##\n",
    "Using the true labels of the reviews, we can take the fifty most salient words in every rating and produce a word cloud. The same `stop_words` we derived from the NLTK library are excluded.\n",
    "\n",
    "We see that some of the words are quite descriptive of the rating, with \"problem\" and \"issue\" frequently appearing in one-star reviews, and \"quality\" and \"highly recommend\" in top reviews."
   ]
  },
  {
   "cell_type": "code",
   "execution_count": null,
   "metadata": {
    "scrolled": true
   },
   "outputs": [],
   "source": [
    "from wordcloud import WordCloud\n",
    "\n",
    "wordcloud = WordCloud(stopwords = set(stop_words), min_font_size=10, \\\n",
    "                      max_font_size=50, max_words=50, \\\n",
    "                      background_color=\"white\", colormap = \"Oranges\")\n",
    "\n",
    "one_star_text = \" \".join(df[df[\"star_rating\"]==1][\"review_body\"].values).lower()\n",
    "two_star_text = \" \".join(df[df[\"star_rating\"]==2][\"review_body\"].values).lower()\n",
    "three_star_text = \" \".join(df[df[\"star_rating\"]==3][\"review_body\"].values).lower()\n",
    "four_star_text = \" \".join(df[df[\"star_rating\"]==4][\"review_body\"].values).lower()\n",
    "five_star_text = \" \".join(df[df[\"star_rating\"]==5][\"review_body\"].values).lower()\n",
    "\n",
    "text_list = [one_star_text, two_star_text, three_star_text, \\\n",
    "             four_star_text, five_star_text]\n",
    "\n",
    "for index, text in enumerate(text_list):\n",
    "    f, axes = plt.subplots(figsize=(10,7))\n",
    "    wordcloud.generate(text)\n",
    "    plt.imshow(wordcloud, interpolation=\"bilinear\")\n",
    "    plt.title(f\"Word Cloud for {index+1}-Star Ratings\")\n",
    "    plt.axis(\"off\")\n",
    "    plt.show()"
   ]
  },
  {
   "cell_type": "code",
   "execution_count": null,
   "metadata": {},
   "outputs": [],
   "source": []
  },
  {
   "cell_type": "markdown",
   "metadata": {},
   "source": [
    "# Conclusion #\n",
    "A lot of Natural Language Processing techniques were covered in the study. Just some of the concepts explored include topic modeling – where similar texts were clustered together according to topic, named entity recognition (NER) – where nouns were given identifying labels like *place* or *time*, and dependency trees – where parts-of-speech tags and sentence structure were discerned. Though the *Word2Vec* phase was central to our final model, the pre-processing steps were perhaps just as crucial. Prior to tokenization, each document had to be decoded from UTF and encoded to ASCII, and converted to lowercase. The texts were stripped of accents, stop words and punctuation, and multiple whitespaces were dropped. Words were simplified to their root words in order to compact the vocabulary as much as possible. Tokens that were often used together were also singularized through phrase modeling.\n",
    "\n",
    "Beyond word use and word frequency, our model actually extracts and quantifies *context*. Every token in all the reviews are understood by their neighboring words and embedded in a given number of dimensions. All the interactions of a word with all the other words it has been associated with are expressed in vectors. And all the words in a given review are averaged according to each of the dimensions to create its 100 features. So the essence of a review by its words make up the final dataframe.\n",
    "\n",
    "What we have is a multi-class model where each of the five classes correspond to a review’s star rating. This is then a discrete approach where each class is independent of each other. In a situation where a 5-star rating is misinterpreted by the model as a 1-star review, then the model has simply misclassified – it is agnostic to how far off `1` and `5` are. This is in contrast with a *continuous* approach whereas a misclassification of a 5-star review as a 1-star review would be more penalizing. Our model then is reliant on the distinction of each kind of review. It is more concerned in asking \"*What makes a 5-star review different from a 4-star review?*\" than asking \"*Is this review more approving than criticizing?*\"\n",
    "\n",
    "## Limitations and Recommendations ##\n",
    "Though we have observed satisfactory results in our model compared to the baseline, there are several limitations in the way the model handles data. These could serve as areas of improvement. First, despite a rich vocabulary, the model will not be able to handle words that it has not encountered during training. In fact, if an unknown word appears in a review, the word is dropped from the dimension-averaging step since has not  been referenced in our `word_vec_df`.\n",
    "\n",
    "Because each word is simplified by lemmatization during pre-processing, then alternate forms of a token shouldn’t necessarily be a concern. However, the model cannot identify if a word is misspelled and will identify one simply as a new word. Incorporating a spellchecker would add to the computational cost and will certainly add to the model’s complexity.\n",
    "\n",
    "Finally, as is usually the case in NLP, sarcasm or text that is intended to be ironic is interpreted by what is literally in the text and not by its underlying context. Because sarcasm is usually detected by readers through the mood and sentiment of the document, it takes adding another layer of NLP just to approximate whether the review is sarcastic or not in order to properly work with such text. This supplement layer will not only utilize tagged sarcastic text as supervised labels, but must also consider the review’s given product rating in its judgment to detect sarcasm."
   ]
  }
 ],
 "metadata": {
  "hide_input": false,
  "kernelspec": {
   "display_name": "Python 3",
   "language": "python",
   "name": "python3"
  },
  "language_info": {
   "codemirror_mode": {
    "name": "ipython",
    "version": 3
   },
   "file_extension": ".py",
   "mimetype": "text/x-python",
   "name": "python",
   "nbconvert_exporter": "python",
   "pygments_lexer": "ipython3",
   "version": "3.7.3"
  }
 },
 "nbformat": 4,
 "nbformat_minor": 2
}
