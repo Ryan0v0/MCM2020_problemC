{
 "cells": [
  {
   "cell_type": "code",
   "execution_count": 1,
   "metadata": {
    "pycharm": {
     "is_executing": false
    }
   },
   "outputs": [],
   "source": [
    "import pandas as pd\n",
    "import numpy as  np\n",
    "import matplotlib.pylab as plt\n",
    "import string  \n",
    "import time, datetime"
   ]
  },
  {
   "cell_type": "markdown",
   "metadata": {
    "pycharm": {
     "name": "#%% md\n"
    }
   },
   "source": [
    "### 读入表\n"
   ]
  },
  {
   "cell_type": "code",
   "execution_count": 2,
   "metadata": {
    "pycharm": {
     "is_executing": false,
     "name": "#%%\n"
    }
   },
   "outputs": [
    {
     "name": "stdout",
     "output_type": "stream",
     "text": [
      "./hair_dryer.tsv\n"
     ]
    }
   ],
   "source": [
    "tab1 = \"./hair_dryer.tsv\"\n",
    "tab2 = \"./clean_data.csv\"\n",
    "print(tab1)\n",
    "\n",
    "#reviews = pd.read_csv(tab1, sep='\\t', header=0,low_memory=False)\n",
    "reviews = pd.read_csv(tab1, sep='\\t', low_memory=False)\n",
    "#reviews = pd.read_csv(tab2,low_memory=False)\n",
    "reviews.columns = ['marketplace','customer_id', 'review_id', 'product_id', 'product_parent', 'product_title', 'product_category', \n",
    "                   'star_rating','helpful_votes', 'total_votes','vine',\n",
    "                   'verified_purchase','review_headline','review_body','review_date']\n",
    "reviews = reviews.loc[reviews['product_parent']==758099411]"
   ]
  },
  {
   "cell_type": "code",
   "execution_count": 3,
   "metadata": {
    "pycharm": {
     "is_executing": false,
     "name": "#%%\n"
    }
   },
   "outputs": [
    {
     "data": {
      "text/plain": [
       "marketplace            1\n",
       "customer_id          535\n",
       "review_id            535\n",
       "product_id             1\n",
       "product_parent         1\n",
       "product_title          1\n",
       "product_category       1\n",
       "star_rating            5\n",
       "helpful_votes         24\n",
       "total_votes           27\n",
       "vine                   1\n",
       "verified_purchase      2\n",
       "review_headline      413\n",
       "review_body          533\n",
       "review_date          437\n",
       "dtype: int64"
      ]
     },
     "execution_count": 3,
     "metadata": {},
     "output_type": "execute_result"
    }
   ],
   "source": [
    "reviews.nunique()\n",
    "\n",
    "\n"
   ]
  },
  {
   "cell_type": "markdown",
   "metadata": {
    "pycharm": {
     "name": "#%% md\n"
    }
   },
   "source": []
  },
  {
   "cell_type": "code",
   "execution_count": 4,
   "metadata": {
    "pycharm": {
     "is_executing": false,
     "name": "#%%\n"
    }
   },
   "outputs": [
    {
     "name": "stdout",
     "output_type": "stream",
     "text": [
      "Total ratings : 535\n",
      "Total users : 535\n",
      "Users giving bulk ratings (more than 10) : 0\n",
      "Bulk ratings : 0\n",
      "Populations of bulk ratings : 0.0\n",
      "Populations of bulk users : 0.0\n"
     ]
    },
    {
     "data": {
      "text/plain": [
       "<matplotlib.axes._subplots.AxesSubplot at 0x115d73f60>"
      ]
     },
     "execution_count": 4,
     "metadata": {},
     "output_type": "execute_result"
    },
    {
     "data": {
      "image/png": "[encoded data removed]",
      "text/plain": [
       "<Figure size 720x720 with 1 Axes>"
      ]
     },
     "metadata": {},
     "output_type": "display_data"
    }
   ],
   "source": [
    "rating_perperson=reviews.customer_id.value_counts()\n",
    "print (\"Total ratings : \" + str(sum(rating_perperson)))\n",
    "print (\"Total users : \" + str(len(rating_perperson)))\n",
    "print(\"Users giving bulk ratings (more than 10) : \" + str(sum(rating_perperson >10)))\n",
    "bulk = rating_perperson[rating_perperson >3]\n",
    "bulk_rating = sum(bulk)\n",
    "print (\"Bulk ratings : \" + str(bulk_rating))\n",
    "print (\"Populations of bulk ratings : \" + str(bulk_rating*100/sum(rating_perperson)))\n",
    "print (\"Populations of bulk users : \" + str(sum(rating_perperson >10)*100/len(rating_perperson)))\n",
    "rating_perperson.value_counts().plot(kind='pie',figsize=(10,10), title='Ratings Per User')"
   ]
  },
  {
   "cell_type": "code",
   "execution_count": 5,
   "metadata": {
    "pycharm": {
     "is_executing": false,
     "name": "#%%\n"
    }
   },
   "outputs": [
    {
     "name": "stdout",
     "output_type": "stream",
     "text": [
      "*** Rating distribution ***\n",
      "5    323\n",
      "4    114\n",
      "3     49\n",
      "2     32\n",
      "1     17\n",
      "Name: star_rating, dtype: int64\n"
     ]
    },
    {
     "data": {
      "text/plain": [
       "<matplotlib.axes._subplots.AxesSubplot at 0x115dcbf98>"
      ]
     },
     "execution_count": 5,
     "metadata": {},
     "output_type": "execute_result"
    },
    {
     "data": {
      "image/png": "[encoded data removed]",
      "text/plain": [
       "<Figure size 432x432 with 1 Axes>"
      ]
     },
     "metadata": {
      "needs_background": "light"
     },
     "output_type": "display_data"
    }
   ],
   "source": [
    "from matplotlib import pyplot\n",
    "%matplotlib inline\n",
    "\n",
    "star = reviews.star_rating.value_counts()\n",
    "print(\"*** Rating distribution ***\")\n",
    "print(star)\n",
    "star.sort_index(inplace=True)\n",
    "star.plot(kind='bar',title='Amazon hair dryer customer ratings',figsize=(6,6),style='Solarize_Light2')"
   ]
  },
  {
   "cell_type": "markdown",
   "metadata": {
    "pycharm": {
     "name": "#%% md\n"
    }
   },
   "source": [
    "### NPS\n",
    "\n",
    "Net Promoters Score helps us evaluate customer satisfaction and loyalty\n",
    "Rating 1,2,3 - Detractors\n",
    "Rating 4 - Passive\n",
    "Rating 5 - Promoters"
   ]
  },
  {
   "cell_type": "code",
   "execution_count": 6,
   "metadata": {
    "pycharm": {
     "is_executing": false,
     "name": "#%% \n"
    }
   },
   "outputs": [
    {
     "name": "stdout",
     "output_type": "stream",
     "text": [
      " NPS score of hair dryer is : 4    12.15\n",
      "5    51.21\n",
      "Name: star_rating, dtype: float64\n"
     ]
    }
   ],
   "source": [
    "NPS_score = round (100*((star.loc[4:5])-sum(star.loc[1:2]))/sum(star.loc[:]),2)\n",
    "print (\" NPS score of hair dryer is : \"  + str(NPS_score))"
   ]
  },
  {
   "cell_type": "markdown",
   "metadata": {
    "pycharm": {
     "name": "#%% md\n"
    }
   },
   "source": [
    "### 得到邀请的人数"
   ]
  },
  {
   "cell_type": "code",
   "execution_count": 7,
   "metadata": {
    "pycharm": {
     "is_executing": false,
     "name": "#%%\n"
    }
   },
   "outputs": [
    {
     "data": {
      "text/plain": [
       "N    535\n",
       "Name: vine, dtype: int64"
      ]
     },
     "execution_count": 7,
     "metadata": {},
     "output_type": "execute_result"
    }
   ],
   "source": [
    "reviews.vine.value_counts()\n",
    "\n",
    "### 得到邀请和未到邀请的比较"
   ]
  },
  {
   "cell_type": "code",
   "execution_count": 8,
   "metadata": {
    "pycharm": {
     "is_executing": false,
     "name": "#%%\n"
    }
   },
   "outputs": [
    {
     "data": {
      "text/plain": [
       "<matplotlib.axes._subplots.AxesSubplot at 0x115f61438>"
      ]
     },
     "execution_count": 8,
     "metadata": {},
     "output_type": "execute_result"
    },
    {
     "data": {
      "image/png": "[encoded data removed]",
      "text/plain": [
       "<Figure size 864x432 with 1 Axes>"
      ]
     },
     "metadata": {
      "needs_background": "light"
     },
     "output_type": "display_data"
    }
   ],
   "source": [
    "reviews.star_rating.hist(by=reviews.vine,figsize=(12,6))\n"
   ]
  },
  {
   "cell_type": "markdown",
   "metadata": {},
   "source": [
    "### 确认购买的人数"
   ]
  },
  {
   "cell_type": "code",
   "execution_count": 9,
   "metadata": {
    "pycharm": {
     "is_executing": false,
     "name": "#%%\n"
    }
   },
   "outputs": [
    {
     "data": {
      "text/plain": [
       "Y    506\n",
       "N     29\n",
       "Name: verified_purchase, dtype: int64"
      ]
     },
     "execution_count": 9,
     "metadata": {},
     "output_type": "execute_result"
    }
   ],
   "source": [
    "reviews.verified_purchase.value_counts()\n",
    "\n",
    "### 得到邀请和未到邀请的比较"
   ]
  },
  {
   "cell_type": "code",
   "execution_count": 10,
   "metadata": {
    "pycharm": {
     "is_executing": false,
     "name": "#%%\n"
    }
   },
   "outputs": [
    {
     "data": {
      "text/plain": [
       "array([<matplotlib.axes._subplots.AxesSubplot object at 0x113602f60>,\n",
       "       <matplotlib.axes._subplots.AxesSubplot object at 0x10447acc0>],\n",
       "      dtype=object)"
      ]
     },
     "execution_count": 10,
     "metadata": {},
     "output_type": "execute_result"
    },
    {
     "data": {
      "image/png": "[encoded data removed]",
      "text/plain": [
       "<Figure size 864x432 with 2 Axes>"
      ]
     },
     "metadata": {
      "needs_background": "light"
     },
     "output_type": "display_data"
    }
   ],
   "source": [
    "reviews.star_rating.hist(by=reviews.verified_purchase,figsize=(12,6))\n"
   ]
  },
  {
   "cell_type": "code",
   "execution_count": 11,
   "metadata": {
    "pycharm": {
     "is_executing": false,
     "name": "#%%\n"
    }
   },
   "outputs": [
    {
     "data": {
      "text/plain": [
       "<matplotlib.axes._subplots.AxesSubplot at 0x113bb80f0>"
      ]
     },
     "execution_count": 11,
     "metadata": {},
     "output_type": "execute_result"
    },
    {
     "data": {
      "image/png": "[encoded data removed]",
      "text/plain": [
       "<Figure size 864x432 with 1 Axes>"
      ]
     },
     "metadata": {
      "needs_background": "light"
     },
     "output_type": "display_data"
    }
   ],
   "source": [
    "#reviews['temp'] = reviews.review_date.apply(lambda x : pd.to_datetime(x))\n",
    "#reviews = reviews.set_index('temp')\n",
    "reviews['review_date'] = pd.to_datetime(reviews['review_date'])\n",
    "review_dates = reviews.review_date.value_counts()\n",
    "review_dates.sort_index(inplace=True)\n",
    "review_dates.plot(kind='area',figsize=(12,6))"
   ]
  },
  {
   "cell_type": "markdown",
   "metadata": {
    "pycharm": {
     "name": "#%% md\n"
    }
   },
   "source": [
    "### 对前100数量的日期按月份统计"
   ]
  },
  {
   "cell_type": "code",
   "execution_count": 12,
   "metadata": {
    "pycharm": {
     "is_executing": false,
     "name": "#%%\n"
    }
   },
   "outputs": [
    {
     "data": {
      "text/plain": [
       "3     19\n",
       "4     12\n",
       "8     11\n",
       "12    10\n",
       "1     10\n",
       "2      9\n",
       "5      8\n",
       "7      7\n",
       "6      5\n",
       "9      4\n",
       "10     3\n",
       "11     2\n",
       "dtype: int64"
      ]
     },
     "execution_count": 12,
     "metadata": {},
     "output_type": "execute_result"
    }
   ],
   "source": [
    "rating_perdate = review_dates.sort_values(ascending=False)\n",
    "peakrating = rating_perdate[:100]\n",
    "peak_month=[]\n",
    "for x in peakrating.index:\n",
    "    peak_month.append(pd.to_datetime(x).month)\n",
    "pd.Series(peak_month).value_counts()\n",
    "\n",
    "\n",
    " "
   ]
  },
  {
   "cell_type": "code",
   "execution_count": 13,
   "metadata": {
    "pycharm": {
     "is_executing": false,
     "name": "#%%\n"
    }
   },
   "outputs": [
    {
     "data": {
      "text/plain": [
       "array([[<matplotlib.axes._subplots.AxesSubplot object at 0x113de9550>]],\n",
       "      dtype=object)"
      ]
     },
     "execution_count": 13,
     "metadata": {},
     "output_type": "execute_result"
    },
    {
     "data": {
      "image/png": "[encoded data removed]",
      "text/plain": [
       "<Figure size 720x432 with 1 Axes>"
      ]
     },
     "metadata": {
      "needs_background": "light"
     },
     "output_type": "display_data"
    },
    {
     "data": {
      "image/png": "[encoded data removed]",
      "text/plain": [
       "<Figure size 720x432 with 1 Axes>"
      ]
     },
     "metadata": {
      "needs_background": "light"
     },
     "output_type": "display_data"
    },
    {
     "data": {
      "image/png": "[encoded data removed]",
      "text/plain": [
       "<Figure size 720x432 with 1 Axes>"
      ]
     },
     "metadata": {
      "needs_background": "light"
     },
     "output_type": "display_data"
    }
   ],
   "source": [
    "rating_series = pd.DataFrame(reviews.review_date)\n",
    "dforms=[]\n",
    "for x in rating_series.review_date:\n",
    "    dforms.append((pd.to_datetime(x)).value)\n",
    "# now we have dforms which has dates transformed to numeric values\n",
    "rating2 = rating_series.assign(date_min = dforms)\n",
    "rating2.reset_index(inplace=True)\n",
    "#rating2.set_index('date_min')\n",
    "#rating2.columns=['timestamp_string','review_count','date_min']\n",
    "bins = np.linspace(min(rating2.date_min),max(rating2.date_min),num=50)\n",
    "rating2.hist(column='date_min', bins=20,figsize=(10,6),)\n",
    "rating2.hist(column='date_min', bins=30,figsize=(10,6))\n",
    "rating2.hist(column='date_min', bins=50,figsize=(10,6))"
   ]
  },
  {
   "cell_type": "code",
   "execution_count": 14,
   "metadata": {
    "pycharm": {
     "is_executing": false,
     "name": "#%%\n"
    }
   },
   "outputs": [],
   "source": [
    "def NPS_eval (A):\n",
    "    score =0\n",
    "    for x in A[:]:\n",
    "        if (x>4) :\n",
    "            score+=1\n",
    "        elif (x<4) :\n",
    "            score-=1\n",
    "    return 100*score/len(A)  \n"
   ]
  },
  {
   "cell_type": "code",
   "execution_count": 15,
   "metadata": {},
   "outputs": [],
   "source": [
    "def STAR_eval (A):\n",
    "    score =0\n",
    "    for x in A[:]:\n",
    "        score+=x\n",
    "    return score/len(A)  "
   ]
  },
  {
   "cell_type": "code",
   "execution_count": 16,
   "metadata": {
    "pycharm": {
     "is_executing": false,
     "name": "#%%\n"
    }
   },
   "outputs": [],
   "source": [
    "#NPS_overtime = reviews[['temp','star_rating']]\n",
    "\n",
    "#NPS_overtime.groupby(by='temp').agg(STAR_eval).plot(figsize=(15,10))\n",
    "\n",
    "NPS_overtime = reviews[['review_date','review_id']]\n",
    "\n",
    "#NPS_overtime.groupby(by='temp').agg(NPS_overtime.review_id.value_counts()).plot(figsize=(15,10))\n"
   ]
  },
  {
   "cell_type": "code",
   "execution_count": 17,
   "metadata": {},
   "outputs": [],
   "source": [
    "NPS_overtime = NPS_overtime.set_index('review_date')"
   ]
  },
  {
   "cell_type": "code",
   "execution_count": 18,
   "metadata": {},
   "outputs": [],
   "source": [
    "#NPS_overtime=NPS_overtime.to_period('M')"
   ]
  },
  {
   "cell_type": "code",
   "execution_count": 19,
   "metadata": {
    "pycharm": {
     "is_executing": false,
     "name": "#%%\n"
    }
   },
   "outputs": [
    {
     "name": "stdout",
     "output_type": "stream",
     "text": [
      "AxesSubplot(0.125,0.125;0.775x0.755)\n"
     ]
    },
    {
     "data": {
      "text/html": [
       "<div>\n",
       "<style scoped>\n",
       "    .dataframe tbody tr th:only-of-type {\n",
       "        vertical-align: middle;\n",
       "    }\n",
       "\n",
       "    .dataframe tbody tr th {\n",
       "        vertical-align: top;\n",
       "    }\n",
       "\n",
       "    .dataframe thead th {\n",
       "        text-align: right;\n",
       "    }\n",
       "</style>\n",
       "<table border=\"1\" class=\"dataframe\">\n",
       "  <thead>\n",
       "    <tr style=\"text-align: right;\">\n",
       "      <th></th>\n",
       "      <th>review_id</th>\n",
       "    </tr>\n",
       "    <tr>\n",
       "      <th>review_date</th>\n",
       "      <th></th>\n",
       "    </tr>\n",
       "  </thead>\n",
       "  <tbody>\n",
       "    <tr>\n",
       "      <th>2008-10-01</th>\n",
       "      <td>1</td>\n",
       "    </tr>\n",
       "    <tr>\n",
       "      <th>2009-04-01</th>\n",
       "      <td>1</td>\n",
       "    </tr>\n",
       "    <tr>\n",
       "      <th>2009-01-01</th>\n",
       "      <td>2</td>\n",
       "    </tr>\n",
       "    <tr>\n",
       "      <th>2010-07-01</th>\n",
       "      <td>2</td>\n",
       "    </tr>\n",
       "    <tr>\n",
       "      <th>2009-07-01</th>\n",
       "      <td>3</td>\n",
       "    </tr>\n",
       "    <tr>\n",
       "      <th>2009-10-01</th>\n",
       "      <td>3</td>\n",
       "    </tr>\n",
       "    <tr>\n",
       "      <th>2010-10-01</th>\n",
       "      <td>3</td>\n",
       "    </tr>\n",
       "    <tr>\n",
       "      <th>2011-04-01</th>\n",
       "      <td>4</td>\n",
       "    </tr>\n",
       "    <tr>\n",
       "      <th>2011-07-01</th>\n",
       "      <td>4</td>\n",
       "    </tr>\n",
       "    <tr>\n",
       "      <th>2010-01-01</th>\n",
       "      <td>5</td>\n",
       "    </tr>\n",
       "    <tr>\n",
       "      <th>2010-04-01</th>\n",
       "      <td>5</td>\n",
       "    </tr>\n",
       "    <tr>\n",
       "      <th>2011-01-01</th>\n",
       "      <td>5</td>\n",
       "    </tr>\n",
       "    <tr>\n",
       "      <th>2011-10-01</th>\n",
       "      <td>6</td>\n",
       "    </tr>\n",
       "    <tr>\n",
       "      <th>2012-07-01</th>\n",
       "      <td>6</td>\n",
       "    </tr>\n",
       "    <tr>\n",
       "      <th>2012-01-01</th>\n",
       "      <td>7</td>\n",
       "    </tr>\n",
       "    <tr>\n",
       "      <th>2012-04-01</th>\n",
       "      <td>9</td>\n",
       "    </tr>\n",
       "    <tr>\n",
       "      <th>2013-07-01</th>\n",
       "      <td>18</td>\n",
       "    </tr>\n",
       "    <tr>\n",
       "      <th>2013-04-01</th>\n",
       "      <td>27</td>\n",
       "    </tr>\n",
       "    <tr>\n",
       "      <th>2012-10-01</th>\n",
       "      <td>28</td>\n",
       "    </tr>\n",
       "    <tr>\n",
       "      <th>2013-10-01</th>\n",
       "      <td>30</td>\n",
       "    </tr>\n",
       "    <tr>\n",
       "      <th>2014-04-01</th>\n",
       "      <td>32</td>\n",
       "    </tr>\n",
       "    <tr>\n",
       "      <th>2014-01-01</th>\n",
       "      <td>35</td>\n",
       "    </tr>\n",
       "    <tr>\n",
       "      <th>2015-07-01</th>\n",
       "      <td>39</td>\n",
       "    </tr>\n",
       "    <tr>\n",
       "      <th>2013-01-01</th>\n",
       "      <td>42</td>\n",
       "    </tr>\n",
       "    <tr>\n",
       "      <th>2014-07-01</th>\n",
       "      <td>47</td>\n",
       "    </tr>\n",
       "    <tr>\n",
       "      <th>2014-10-01</th>\n",
       "      <td>48</td>\n",
       "    </tr>\n",
       "    <tr>\n",
       "      <th>2015-04-01</th>\n",
       "      <td>53</td>\n",
       "    </tr>\n",
       "    <tr>\n",
       "      <th>2015-01-01</th>\n",
       "      <td>70</td>\n",
       "    </tr>\n",
       "  </tbody>\n",
       "</table>\n",
       "</div>"
      ],
      "text/plain": [
       "             review_id\n",
       "review_date           \n",
       "2008-10-01           1\n",
       "2009-04-01           1\n",
       "2009-01-01           2\n",
       "2010-07-01           2\n",
       "2009-07-01           3\n",
       "2009-10-01           3\n",
       "2010-10-01           3\n",
       "2011-04-01           4\n",
       "2011-07-01           4\n",
       "2010-01-01           5\n",
       "2010-04-01           5\n",
       "2011-01-01           5\n",
       "2011-10-01           6\n",
       "2012-07-01           6\n",
       "2012-01-01           7\n",
       "2012-04-01           9\n",
       "2013-07-01          18\n",
       "2013-04-01          27\n",
       "2012-10-01          28\n",
       "2013-10-01          30\n",
       "2014-04-01          32\n",
       "2014-01-01          35\n",
       "2015-07-01          39\n",
       "2013-01-01          42\n",
       "2014-07-01          47\n",
       "2014-10-01          48\n",
       "2015-04-01          53\n",
       "2015-01-01          70"
      ]
     },
     "execution_count": 19,
     "metadata": {},
     "output_type": "execute_result"
    },
    {
     "data": {
      "image/png": "[encoded data removed]",
      "text/plain": [
       "<Figure size 432x288 with 1 Axes>"
      ]
     },
     "metadata": {
      "needs_background": "light"
     },
     "output_type": "display_data"
    }
   ],
   "source": [
    "\n",
    "\n",
    "#NPS_overtime['timeline']= NPS_overtime['temp'].apply(lambda x : (x.month+(12*(x.year-2013))))\n",
    "#NPS_overtime['10dayline']= NPS_overtime['temp'].apply(lambda x : (x.day//10+x.month*3+(36*(x.year-2014))))\n",
    "#NPS_overtime['timeline']= NPS_overtime['temp'].apply(lambda x : (x.month+x.year*100))\n",
    "#NPS_overtime=NPS_overtime.loc[NPS_overtime['10dayline']>=0]\n",
    "#NPS_overtime=NPS_overtime.loc[NPS_overtime['timeline']>=0]\n",
    "#NPS_by_month= NPS_overtime.groupby(by='timeline').agg(NPS_eval)\n",
    "#NPS_by_10day =  NPS_overtime.groupby(by='10dayline').agg(STAR_eval)\n",
    "\n",
    "NPS_by_month= NPS_overtime.resample('QS').count()\n",
    "print(NPS_by_month.plot())\n",
    "NPS_by_month.sort_values(by='review_id')\n",
    "# NPS_by_month.sort_values(by='star_rating')\n",
    "# print(NPS_by_10day.plot())\n",
    "# NPS_by_10day.sort_values(by='star_rating')"
   ]
  },
  {
   "cell_type": "markdown",
   "metadata": {
    "pycharm": {
     "name": "#%% md\n"
    }
   },
   "source": [
    "### LSTM"
   ]
  },
  {
   "cell_type": "code",
   "execution_count": 20,
   "metadata": {
    "pycharm": {
     "is_executing": false,
     "name": "#%%\n"
    }
   },
   "outputs": [
    {
     "name": "stderr",
     "output_type": "stream",
     "text": [
      "Using TensorFlow backend.\n"
     ]
    }
   ],
   "source": [
    "import numpy\n",
    "import matplotlib.pyplot as plt\n",
    "from keras.models import Sequential\n",
    "from keras.layers import Dense\n",
    "from keras.layers import LSTM\n",
    "import  pandas as pd\n",
    "import  os\n",
    "from sklearn.preprocessing import MinMaxScaler\n",
    "from keras.models import Sequential, load_model"
   ]
  },
  {
   "cell_type": "code",
   "execution_count": 21,
   "metadata": {
    "pycharm": {
     "is_executing": false,
     "name": "#%%\n"
    }
   },
   "outputs": [],
   "source": [
    "#dataset = NPS_by_10day\n",
    "dataset = NPS_by_month\n",
    "dataset = dataset.astype('float32')\n",
    "scaler = MinMaxScaler(feature_range=(0, 1))\n",
    "dataset = scaler.fit_transform(dataset)\n",
    "\n",
    "train_size = int(len(dataset) * 0.65)\n",
    "trainlist = dataset[:train_size]\n",
    "testlist = dataset[train_size:]"
   ]
  },
  {
   "cell_type": "code",
   "execution_count": 22,
   "metadata": {
    "pycharm": {
     "is_executing": false,
     "name": "#%%\n"
    }
   },
   "outputs": [],
   "source": [
    "def create_dataset(dataset, look_back):\n",
    "#这里的look_back与timestep相同\n",
    "    dataX, dataY = [], []\n",
    "    for i in range(len(dataset)-look_back-1):\n",
    "        a = dataset[i:(i+look_back)]\n",
    "        dataX.append(a)\n",
    "        dataY.append(dataset[i + look_back])\n",
    "    return numpy.array(dataX),numpy.array(dataY)\n",
    "#训练数据太少 look_back并不能过大\n",
    "\n",
    "#训练数据太少 look_back并不能过大"
   ]
  },
  {
   "cell_type": "code",
   "execution_count": 23,
   "metadata": {
    "pycharm": {
     "is_executing": false,
     "name": "#%%\n"
    }
   },
   "outputs": [],
   "source": [
    "look_back = 1\n",
    "trainX,trainY  = create_dataset(trainlist,look_back)\n",
    "testX,testY = create_dataset(testlist,look_back)"
   ]
  },
  {
   "cell_type": "code",
   "execution_count": 24,
   "metadata": {
    "pycharm": {
     "is_executing": false,
     "name": "#%%\n"
    }
   },
   "outputs": [
    {
     "name": "stdout",
     "output_type": "stream",
     "text": [
      "Epoch 1/100\n",
      " - 0s - loss: 0.0106\n",
      "Epoch 2/100\n",
      " - 0s - loss: 0.0094\n",
      "Epoch 3/100\n",
      " - 0s - loss: 0.0085\n",
      "Epoch 4/100\n",
      " - 0s - loss: 0.0080\n",
      "Epoch 5/100\n",
      " - 0s - loss: 0.0078\n",
      "Epoch 6/100\n",
      " - 0s - loss: 0.0076\n",
      "Epoch 7/100\n",
      " - 0s - loss: 0.0075\n",
      "Epoch 8/100\n",
      " - 0s - loss: 0.0075\n",
      "Epoch 9/100\n",
      " - 0s - loss: 0.0074\n",
      "Epoch 10/100\n",
      " - 0s - loss: 0.0075\n",
      "Epoch 11/100\n",
      " - 0s - loss: 0.0075\n",
      "Epoch 12/100\n",
      " - 0s - loss: 0.0075\n",
      "Epoch 13/100\n",
      " - 0s - loss: 0.0074\n",
      "Epoch 14/100\n",
      " - 0s - loss: 0.0075\n",
      "Epoch 15/100\n",
      " - 0s - loss: 0.0074\n",
      "Epoch 16/100\n",
      " - 0s - loss: 0.0074\n",
      "Epoch 17/100\n",
      " - 0s - loss: 0.0074\n",
      "Epoch 18/100\n",
      " - 0s - loss: 0.0075\n",
      "Epoch 19/100\n",
      " - 0s - loss: 0.0074\n",
      "Epoch 20/100\n",
      " - 0s - loss: 0.0074\n",
      "Epoch 21/100\n",
      " - 0s - loss: 0.0074\n",
      "Epoch 22/100\n",
      " - 0s - loss: 0.0075\n",
      "Epoch 23/100\n",
      " - 0s - loss: 0.0075\n",
      "Epoch 24/100\n",
      " - 0s - loss: 0.0074\n",
      "Epoch 25/100\n",
      " - 0s - loss: 0.0074\n",
      "Epoch 26/100\n",
      " - 0s - loss: 0.0073\n",
      "Epoch 27/100\n",
      " - 0s - loss: 0.0074\n",
      "Epoch 28/100\n",
      " - 0s - loss: 0.0074\n",
      "Epoch 29/100\n",
      " - 0s - loss: 0.0073\n",
      "Epoch 30/100\n",
      " - 0s - loss: 0.0073\n",
      "Epoch 31/100\n",
      " - 0s - loss: 0.0073\n",
      "Epoch 32/100\n",
      " - 0s - loss: 0.0074\n",
      "Epoch 33/100\n",
      " - 0s - loss: 0.0073\n",
      "Epoch 34/100\n",
      " - 0s - loss: 0.0073\n",
      "Epoch 35/100\n",
      " - 0s - loss: 0.0073\n",
      "Epoch 36/100\n",
      " - 0s - loss: 0.0073\n",
      "Epoch 37/100\n",
      " - 0s - loss: 0.0073\n",
      "Epoch 38/100\n",
      " - 0s - loss: 0.0073\n",
      "Epoch 39/100\n",
      " - 0s - loss: 0.0073\n",
      "Epoch 40/100\n",
      " - 0s - loss: 0.0073\n",
      "Epoch 41/100\n",
      " - 0s - loss: 0.0073\n",
      "Epoch 42/100\n",
      " - 0s - loss: 0.0073\n",
      "Epoch 43/100\n",
      " - 0s - loss: 0.0073\n",
      "Epoch 44/100\n",
      " - 0s - loss: 0.0073\n",
      "Epoch 45/100\n",
      " - 0s - loss: 0.0073\n",
      "Epoch 46/100\n",
      " - 0s - loss: 0.0073\n",
      "Epoch 47/100\n",
      " - 0s - loss: 0.0073\n",
      "Epoch 48/100\n",
      " - 0s - loss: 0.0073\n",
      "Epoch 49/100\n",
      " - 0s - loss: 0.0073\n",
      "Epoch 50/100\n",
      " - 0s - loss: 0.0073\n",
      "Epoch 51/100\n",
      " - 0s - loss: 0.0073\n",
      "Epoch 52/100\n",
      " - 0s - loss: 0.0072\n",
      "Epoch 53/100\n",
      " - 0s - loss: 0.0072\n",
      "Epoch 54/100\n",
      " - 0s - loss: 0.0073\n",
      "Epoch 55/100\n",
      " - 0s - loss: 0.0072\n",
      "Epoch 56/100\n",
      " - 0s - loss: 0.0072\n",
      "Epoch 57/100\n",
      " - 0s - loss: 0.0072\n",
      "Epoch 58/100\n",
      " - 0s - loss: 0.0072\n",
      "Epoch 59/100\n",
      " - 0s - loss: 0.0072\n",
      "Epoch 60/100\n",
      " - 0s - loss: 0.0072\n",
      "Epoch 61/100\n",
      " - 0s - loss: 0.0072\n",
      "Epoch 62/100\n",
      " - 0s - loss: 0.0072\n",
      "Epoch 63/100\n",
      " - 0s - loss: 0.0072\n",
      "Epoch 64/100\n",
      " - 0s - loss: 0.0072\n",
      "Epoch 65/100\n",
      " - 0s - loss: 0.0072\n",
      "Epoch 66/100\n",
      " - 0s - loss: 0.0072\n",
      "Epoch 67/100\n",
      " - 0s - loss: 0.0072\n",
      "Epoch 68/100\n",
      " - 0s - loss: 0.0072\n",
      "Epoch 69/100\n",
      " - 0s - loss: 0.0072\n",
      "Epoch 70/100\n",
      " - 0s - loss: 0.0072\n",
      "Epoch 71/100\n",
      " - 0s - loss: 0.0072\n",
      "Epoch 72/100\n",
      " - 0s - loss: 0.0071\n",
      "Epoch 73/100\n",
      " - 0s - loss: 0.0072\n",
      "Epoch 74/100\n",
      " - 0s - loss: 0.0071\n",
      "Epoch 75/100\n",
      " - 0s - loss: 0.0071\n",
      "Epoch 76/100\n",
      " - 0s - loss: 0.0072\n",
      "Epoch 77/100\n",
      " - 0s - loss: 0.0072\n",
      "Epoch 78/100\n",
      " - 0s - loss: 0.0071\n",
      "Epoch 79/100\n",
      " - 0s - loss: 0.0072\n",
      "Epoch 80/100\n",
      " - 0s - loss: 0.0071\n",
      "Epoch 81/100\n",
      " - 0s - loss: 0.0071\n",
      "Epoch 82/100\n",
      " - 0s - loss: 0.0071\n",
      "Epoch 83/100\n",
      " - 0s - loss: 0.0071\n",
      "Epoch 84/100\n",
      " - 0s - loss: 0.0071\n",
      "Epoch 85/100\n",
      " - 0s - loss: 0.0071\n",
      "Epoch 86/100\n",
      " - 0s - loss: 0.0071\n",
      "Epoch 87/100\n",
      " - 0s - loss: 0.0071\n",
      "Epoch 88/100\n",
      " - 0s - loss: 0.0071\n",
      "Epoch 89/100\n",
      " - 0s - loss: 0.0071\n",
      "Epoch 90/100\n",
      " - 0s - loss: 0.0071\n",
      "Epoch 91/100\n",
      " - 0s - loss: 0.0071\n",
      "Epoch 92/100\n",
      " - 0s - loss: 0.0071\n",
      "Epoch 93/100\n",
      " - 0s - loss: 0.0071\n",
      "Epoch 94/100\n",
      " - 0s - loss: 0.0070\n",
      "Epoch 95/100\n",
      " - 0s - loss: 0.0070\n",
      "Epoch 96/100\n",
      " - 0s - loss: 0.0070\n",
      "Epoch 97/100\n",
      " - 0s - loss: 0.0070\n",
      "Epoch 98/100\n",
      " - 0s - loss: 0.0070\n",
      "Epoch 99/100\n",
      " - 0s - loss: 0.0071\n",
      "Epoch 100/100\n",
      " - 0s - loss: 0.0071\n"
     ]
    }
   ],
   "source": [
    "trainX = numpy.reshape(trainX, (trainX.shape[0], trainX.shape[1], 1))\n",
    "testX = numpy.reshape(testX, (testX.shape[0], testX.shape[1] ,1 ))\n",
    "\n",
    "# create and fit the LSTM network\n",
    "model = Sequential()\n",
    "model.add(LSTM(4, input_shape=(None,1)))\n",
    "model.add(Dense(1))\n",
    "model.compile(loss='mean_squared_error', optimizer='adam')\n",
    "model.fit(trainX, trainY, epochs=100, batch_size=1, verbose=2)\n",
    "model.save(os.path.join(\"Test\" + \".h5\"))"
   ]
  },
  {
   "cell_type": "code",
   "execution_count": 25,
   "metadata": {
    "pycharm": {
     "is_executing": false,
     "name": "#%%\n"
    }
   },
   "outputs": [],
   "source": [
    "#model = load_model(os.path.join(\"DATA\",\"Test\" + \".h5\"))\n",
    "trainPredict = model.predict(trainX)\n",
    "testPredict = model.predict(testX)\n",
    "\n",
    "#反归一化\n",
    "trainPredict = scaler.inverse_transform(trainPredict)\n",
    "trainY = scaler.inverse_transform(trainY)\n",
    "testPredict = scaler.inverse_transform(testPredict)\n",
    "testY = scaler.inverse_transform(testY)"
   ]
  },
  {
   "cell_type": "code",
   "execution_count": 26,
   "metadata": {
    "pycharm": {
     "is_executing": false,
     "name": "#%%\n"
    }
   },
   "outputs": [
    {
     "data": {
      "image/png": "[encoded data removed]",
      "text/plain": [
       "<Figure size 432x288 with 1 Axes>"
      ]
     },
     "metadata": {
      "needs_background": "light"
     },
     "output_type": "display_data"
    },
    {
     "data": {
      "image/png": "[encoded data removed]",
      "text/plain": [
       "<Figure size 432x288 with 1 Axes>"
      ]
     },
     "metadata": {
      "needs_background": "light"
     },
     "output_type": "display_data"
    }
   ],
   "source": [
    "plt.plot(trainY)\n",
    "plt.plot(trainPredict[1:])\n",
    "plt.show()\n",
    "plt.plot(testY)\n",
    "plt.plot(testPredict[1:])\n",
    "plt.show()\n",
    "\n"
   ]
  },
  {
   "cell_type": "markdown",
   "metadata": {
    "pycharm": {
     "name": "#%% md\n"
    }
   },
   "source": [
    "### arima\n",
    "下面是arima"
   ]
  },
  {
   "cell_type": "code",
   "execution_count": 102,
   "metadata": {
    "pycharm": {
     "is_executing": false,
     "name": "#%%\n"
    }
   },
   "outputs": [],
   "source": [
    "import numpy as np\n",
    "import pandas as pd\n",
    "from datetime import datetime\n",
    "import matplotlib.pylab as plt\n",
    "from statsmodels.tsa.stattools import adfuller\n",
    "from statsmodels.tsa.seasonal import seasonal_decompose"
   ]
  },
  {
   "cell_type": "code",
   "execution_count": 103,
   "metadata": {
    "pycharm": {
     "is_executing": false,
     "name": "#%%\n"
    }
   },
   "outputs": [
    {
     "data": {
      "text/plain": [
       "review_date\n",
       "2008-10-01    1\n",
       "2009-01-01    2\n",
       "2009-04-01    1\n",
       "2009-07-01    3\n",
       "2009-10-01    3\n",
       "Freq: QS-JAN, Name: review_id, dtype: int64"
      ]
     },
     "execution_count": 103,
     "metadata": {},
     "output_type": "execute_result"
    }
   ],
   "source": [
    "df = NPS_by_month\n",
    "\n",
    "ts = df['review_id'] \n",
    "\n",
    "\n",
    "ts.head()"
   ]
  },
  {
   "cell_type": "code",
   "execution_count": 104,
   "metadata": {
    "pycharm": {
     "name": "#%%\n"
    }
   },
   "outputs": [],
   "source": [
    "\n",
    "# 移动平均图\n",
    "def draw_trend(timeseries, size):\n",
    "    f = plt.figure(facecolor='white')\n",
    "    # 对size个数据进行移动平均\n",
    "    rol_mean = timeseries.rolling(window=size).mean()\n",
    "    # 对size个数据移动平均的方差\n",
    "    rol_std = timeseries.rolling(window=size).std()\n",
    " \n",
    "    timeseries.plot(color='blue', label='Original')\n",
    "    rol_mean.plot(color='red', label='Rolling Mean')\n",
    "    rol_std.plot(color='black', label='Rolling standard deviation')\n",
    "    plt.legend(loc='best')\n",
    "    plt.title('Rolling Mean & Standard Deviation')"
   ]
  },
  {
   "cell_type": "code",
   "execution_count": 105,
   "metadata": {
    "pycharm": {
     "name": "#%%\n"
    }
   },
   "outputs": [],
   "source": [
    "def draw_ts(timeseries):\n",
    "    f = plt.figure(facecolor='white')\n",
    "    timeseries.plot(color='blue')\n",
    "    plt.show()\n"
   ]
  },
  {
   "cell_type": "code",
   "execution_count": 106,
   "metadata": {
    "pycharm": {
     "name": "#%%\n"
    }
   },
   "outputs": [],
   "source": [
    "\n",
    "def teststationarity(ts):\n",
    "    dftest = adfuller(ts)\n",
    "    # 对上述函数求得的值进行语义描述\n",
    "    dfoutput = pd.Series(dftest[0:4], index=['Test Statistic','p-value','#Lags Used','Number of Observations Used'])\n",
    "    for key,value in dftest[4].items():\n",
    "        dfoutput['Critical Value (%s)'%key] = value\n",
    "    return dfoutput"
   ]
  },
  {
   "cell_type": "markdown",
   "metadata": {
    "pycharm": {
     "name": "#%% md\n"
    }
   },
   "source": [
    "下面查看均值和方差"
   ]
  },
  {
   "cell_type": "code",
   "execution_count": 107,
   "metadata": {
    "pycharm": {
     "name": "#%%\n"
    }
   },
   "outputs": [
    {
     "data": {
      "image/png": "[encoded data removed]",
      "text/plain": [
       "<Figure size 432x288 with 1 Axes>"
      ]
     },
     "metadata": {},
     "output_type": "display_data"
    }
   ],
   "source": [
    "draw_trend(ts,12)"
   ]
  },
  {
   "cell_type": "markdown",
   "metadata": {
    "pycharm": {
     "name": "#%% md\n"
    }
   },
   "source": [
    "看Dickey-Fuller的结果"
   ]
  },
  {
   "cell_type": "code",
   "execution_count": 108,
   "metadata": {
    "pycharm": {
     "name": "#%%\n"
    }
   },
   "outputs": [
    {
     "data": {
      "text/plain": [
       "Test Statistic                 -1.196121\n",
       "p-value                         0.675262\n",
       "#Lags Used                      0.000000\n",
       "Number of Observations Used    27.000000\n",
       "Critical Value (1%)            -3.699608\n",
       "Critical Value (5%)            -2.976430\n",
       "Critical Value (10%)           -2.627601\n",
       "dtype: float64"
      ]
     },
     "execution_count": 108,
     "metadata": {},
     "output_type": "execute_result"
    }
   ],
   "source": [
    "teststationarity(ts)"
   ]
  },
  {
   "cell_type": "markdown",
   "metadata": {
    "pycharm": {
     "name": "#%% md\n"
    }
   },
   "source": [
    "对数变换"
   ]
  },
  {
   "cell_type": "code",
   "execution_count": 109,
   "metadata": {
    "pycharm": {
     "name": "#%%\n"
    }
   },
   "outputs": [],
   "source": [
    "ts_log = np.log(ts)"
   ]
  },
  {
   "cell_type": "markdown",
   "metadata": {
    "pycharm": {
     "name": "#%% md\n"
    }
   },
   "source": [
    "根据平滑技术的不同，平滑法具体分为移动平均法和指数平均法。\n",
    "\n",
    "移动平均即利用一定时间间隔内的平均值作为某一期的估计值，而指数平均则是用变权的方法来计算均值。\n",
    "\n",
    "移动平均："
   ]
  },
  {
   "cell_type": "code",
   "execution_count": 110,
   "metadata": {
    "pycharm": {
     "name": "#%%\n"
    }
   },
   "outputs": [],
   "source": [
    "def draw_moving(timeSeries, size):\n",
    "    f = plt.figure(facecolor='white')\n",
    "    # 对size个数据进行移动平均\n",
    "    rol_mean = timeSeries.rolling(window=size).mean()\n",
    "    # 对size个数据进行加权移动平均\n",
    "    #rol_weighted_mean = timeSeries.ewm(span=size)\n",
    "    rol_weighted_mean=timeSeries.ewm(halflife=size,min_periods=0,adjust=True,ignore_na=False).mean()\n",
    " \n",
    "    timeSeries.plot(color='blue', label='Original')\n",
    "    rol_mean.plot(color='red', label='Rolling Mean')\n",
    "    rol_weighted_mean.plot(color='black', label='Weighted Rolling Mean')\n",
    "    plt.legend(loc='best')\n",
    "    plt.title('Rolling Mean')\n",
    "    plt.show()"
   ]
  },
  {
   "cell_type": "code",
   "execution_count": 111,
   "metadata": {
    "pycharm": {
     "name": "#%%\n"
    }
   },
   "outputs": [
    {
     "data": {
      "image/png": "[encoded data removed]",
      "text/plain": [
       "<Figure size 432x288 with 1 Axes>"
      ]
     },
     "metadata": {},
     "output_type": "display_data"
    }
   ],
   "source": [
    "draw_moving(ts,12)"
   ]
  },
  {
   "cell_type": "markdown",
   "metadata": {
    "pycharm": {
     "name": "#%% md\n"
    }
   },
   "source": [
    "差分"
   ]
  },
  {
   "cell_type": "code",
   "execution_count": 112,
   "metadata": {
    "pycharm": {
     "name": "#%%\n"
    }
   },
   "outputs": [
    {
     "data": {
      "text/plain": [
       "Test Statistic                 -5.334487\n",
       "p-value                         0.000005\n",
       "#Lags Used                      1.000000\n",
       "Number of Observations Used    13.000000\n",
       "Critical Value (1%)            -4.068854\n",
       "Critical Value (5%)            -3.127149\n",
       "Critical Value (10%)           -2.701730\n",
       "dtype: float64"
      ]
     },
     "execution_count": 112,
     "metadata": {},
     "output_type": "execute_result"
    }
   ],
   "source": [
    "diff_12 = ts_log.diff(12)\n",
    "diff_12.dropna(inplace=True)\n",
    "diff_12_1 = diff_12.diff(1)\n",
    "diff_12_1.dropna(inplace=True)\n",
    "teststationarity(diff_12_1)\n"
   ]
  },
  {
   "cell_type": "markdown",
   "metadata": {
    "pycharm": {
     "name": "#%% md\n"
    }
   },
   "source": [
    "分解"
   ]
  },
  {
   "cell_type": "code",
   "execution_count": 113,
   "metadata": {
    "pycharm": {
     "name": "#%%\n"
    }
   },
   "outputs": [],
   "source": [
    "\n",
    "def decompose(timeseries):\n",
    "    \n",
    "    # 返回包含三个部分 trend（趋势部分） ， seasonal（季节性部分） 和residual (残留部分)\n",
    "    decomposition = seasonal_decompose(timeseries)\n",
    "    \n",
    "    trend = decomposition.trend\n",
    "    seasonal = decomposition.seasonal\n",
    "    residual = decomposition.resid\n",
    "    \n",
    "    plt.subplot(411)\n",
    "    plt.plot(ts_log, label='Original')\n",
    "    plt.legend(loc='best')\n",
    "    plt.subplot(412)\n",
    "    plt.plot(trend, label='Trend')\n",
    "    plt.legend(loc='best')\n",
    "    plt.subplot(413)\n",
    "    plt.plot(seasonal,label='Seasonality')\n",
    "    plt.legend(loc='best')\n",
    "    plt.subplot(414)\n",
    "    plt.plot(residual, label='Residuals')\n",
    "    plt.legend(loc='best')\n",
    "    plt.tight_layout()\n",
    "    plt.show()\n",
    "    return trend , seasonal, residual"
   ]
  },
  {
   "cell_type": "code",
   "execution_count": 114,
   "metadata": {
    "pycharm": {
     "name": "#%%\n"
    }
   },
   "outputs": [
    {
     "data": {
      "image/png": "[encoded data removed]",
      "text/plain": [
       "<Figure size 432x288 with 4 Axes>"
      ]
     },
     "metadata": {
      "needs_background": "light"
     },
     "output_type": "display_data"
    },
    {
     "data": {
      "text/plain": [
       "Test Statistic                -7.398647e+00\n",
       "p-value                        7.658381e-11\n",
       "#Lags Used                     9.000000e+00\n",
       "Number of Observations Used    1.400000e+01\n",
       "Critical Value (1%)           -4.012034e+00\n",
       "Critical Value (5%)           -3.104184e+00\n",
       "Critical Value (10%)          -2.690987e+00\n",
       "dtype: float64"
      ]
     },
     "execution_count": 114,
     "metadata": {},
     "output_type": "execute_result"
    },
    {
     "data": {
      "image/png": "[encoded data removed]",
      "text/plain": [
       "<Figure size 432x288 with 1 Axes>"
      ]
     },
     "metadata": {},
     "output_type": "display_data"
    }
   ],
   "source": [
    "trend , seasonal, residual = decompose(ts_log)\n",
    "residual.dropna(inplace=True)\n",
    "draw_trend(residual,12)\n",
    "teststationarity(residual)"
   ]
  },
  {
   "cell_type": "markdown",
   "metadata": {
    "pycharm": {
     "name": "#%% md\n"
    }
   },
   "source": [
    "### 预测"
   ]
  },
  {
   "cell_type": "code",
   "execution_count": 115,
   "metadata": {
    "pycharm": {
     "name": "#%%\n"
    }
   },
   "outputs": [
    {
     "data": {
      "text/plain": [
       "Test Statistic                 -4.401407\n",
       "p-value                         0.000295\n",
       "#Lags Used                      0.000000\n",
       "Number of Observations Used    15.000000\n",
       "Critical Value (1%)            -3.964443\n",
       "Critical Value (5%)            -3.084908\n",
       "Critical Value (10%)           -2.681814\n",
       "dtype: float64"
      ]
     },
     "execution_count": 115,
     "metadata": {},
     "output_type": "execute_result"
    }
   ],
   "source": [
    "rol_mean = ts_log.rolling(window=12).mean()\n",
    "rol_mean.dropna(inplace=True)\n",
    "ts_diff_1 = rol_mean.diff(1)\n",
    "ts_diff_1.dropna(inplace=True)\n",
    "teststationarity(ts_diff_1)"
   ]
  },
  {
   "cell_type": "code",
   "execution_count": 116,
   "metadata": {
    "pycharm": {
     "name": "#%%\n"
    }
   },
   "outputs": [
    {
     "data": {
      "text/plain": [
       "Test Statistic                 -5.334487\n",
       "p-value                         0.000005\n",
       "#Lags Used                      1.000000\n",
       "Number of Observations Used    13.000000\n",
       "Critical Value (1%)            -4.068854\n",
       "Critical Value (5%)            -3.127149\n",
       "Critical Value (10%)           -2.701730\n",
       "dtype: float64"
      ]
     },
     "execution_count": 116,
     "metadata": {},
     "output_type": "execute_result"
    }
   ],
   "source": [
    "ts_diff_2 = ts_diff_1.diff(1)\n",
    "ts_diff_2.dropna(inplace=True)\n",
    "teststationarity(ts_diff_2)"
   ]
  },
  {
   "cell_type": "code",
   "execution_count": 117,
   "metadata": {
    "pycharm": {
     "name": "#%%\n"
    }
   },
   "outputs": [],
   "source": [
    "from statsmodels.graphics.tsaplots import plot_acf, plot_pacf\n",
    "def draw_acf_pacf(ts,lags):\n",
    "    f = plt.figure(facecolor='white')\n",
    "    ax1 = f.add_subplot(211)\n",
    "    plot_acf(ts,ax=ax1,lags=lags)\n",
    "    ax2 = f.add_subplot(212)\n",
    "    plot_pacf(ts,ax=ax2,lags=lags)\n",
    "    plt.subplots_adjust(hspace=0.5)\n",
    "    plt.show()"
   ]
  },
  {
   "cell_type": "code",
   "execution_count": 119,
   "metadata": {
    "pycharm": {
     "name": "#%%\n"
    }
   },
   "outputs": [
    {
     "name": "stderr",
     "output_type": "stream",
     "text": [
      "/Library/Frameworks/Python.framework/Versions/3.7/lib/python3.7/site-packages/statsmodels/regression/linear_model.py:1406: RuntimeWarning: invalid value encountered in sqrt\n",
      "  return rho, np.sqrt(sigmasq)\n"
     ]
    },
    {
     "data": {
      "image/png": "[encoded data removed]",
      "text/plain": [
       "<Figure size 432x288 with 2 Axes>"
      ]
     },
     "metadata": {},
     "output_type": "display_data"
    }
   ],
   "source": [
    "#draw_acf_pacf(ts_diff_2,30)\n",
    "draw_acf_pacf(ts_diff_2,13)"
   ]
  },
  {
   "cell_type": "code",
   "execution_count": 120,
   "metadata": {
    "pycharm": {
     "name": "#%%\n"
    }
   },
   "outputs": [],
   "source": [
    "from statsmodels.tsa.arima_model import ARIMA\n",
    "# model = ARIMA(ts_diff_1, order=(1,1,1)) \n",
    "model = ARIMA(ts_diff_1, order=(1,1,0))\n",
    "result_arima = model.fit( disp=-1, method='css')"
   ]
  },
  {
   "cell_type": "code",
   "execution_count": 121,
   "metadata": {
    "pycharm": {
     "name": "#%%\n"
    }
   },
   "outputs": [],
   "source": [
    "predict_ts = result_arima.predict()\n",
    "# 一阶差分还原\n",
    "diff_shift_ts = ts_diff_1.shift(1)\n",
    "diff_recover_1 = predict_ts.add(diff_shift_ts)\n",
    "# 再次一阶差分还原\n",
    "rol_shift_ts = rol_mean.shift(1)\n",
    "diff_recover = diff_recover_1.add(rol_shift_ts)\n",
    "# 移动平均还原\n",
    "rol_sum = ts_log.rolling(window=11).sum()\n",
    "rol_recover = diff_recover*12 - rol_sum.shift(1)\n",
    "# 对数还原\n",
    "log_recover = np.exp(rol_recover)\n",
    "log_recover.dropna(inplace=True)"
   ]
  },
  {
   "cell_type": "code",
   "execution_count": 122,
   "metadata": {
    "pycharm": {
     "name": "#%%\n"
    }
   },
   "outputs": [
    {
     "data": {
      "image/png": "[encoded data removed]",
      "text/plain": [
       "<Figure size 432x288 with 1 Axes>"
      ]
     },
     "metadata": {
      "needs_background": "light"
     },
     "output_type": "display_data"
    }
   ],
   "source": [
    "ts = ts[log_recover.index]  # 过滤没有预测的记录plt.figure(facecolor='white')\n",
    "log_recover.plot(color='blue', label='Predict')\n",
    "ts.plot(color='red', label='Original')\n",
    "plt.legend(loc='best')\n",
    "plt.title('RMSE: %.4f'% np.sqrt(sum((log_recover-ts)**2)/ts.size))\n",
    "plt.show()"
   ]
  },
  {
   "cell_type": "code",
   "execution_count": null,
   "metadata": {},
   "outputs": [],
   "source": [
    "print('google')\n"
   ]
  },
  {
   "cell_type": "code",
   "execution_count": null,
   "metadata": {},
   "outputs": [],
   "source": []
  }
 ],
 "metadata": {
  "kernelspec": {
   "display_name": "Python 3",
   "language": "python",
   "name": "python3"
  },
  "language_info": {
   "codemirror_mode": {
    "name": "ipython",
    "version": 3
   },
   "file_extension": ".py",
   "mimetype": "text/x-python",
   "name": "python",
   "nbconvert_exporter": "python",
   "pygments_lexer": "ipython3",
   "version": "3.7.3"
  },
  "pycharm": {
   "stem_cell": {
    "cell_type": "raw",
    "metadata": {
     "collapsed": false
    },
    "source": []
   }
  }
 },
 "nbformat": 4,
 "nbformat_minor": 1
}
