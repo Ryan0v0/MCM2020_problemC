{
 "cells": [
  {
   "cell_type": "code",
   "execution_count": 1,
   "metadata": {},
   "outputs": [],
   "source": [
    "import pandas as pd\n",
    "import numpy as  np\n",
    "import matplotlib.pylab as plt\n",
    "import string  "
   ]
  },
  {
   "cell_type": "code",
   "execution_count": 2,
   "metadata": {},
   "outputs": [
    {
     "name": "stdout",
     "output_type": "stream",
     "text": [
      "./hair_dryer.tsv\n"
     ]
    }
   ],
   "source": [
    "tab1 = \"./hair_dryer.tsv\"\n",
    "tab2 = \"./clean_data.csv\"\n",
    "print(tab1)\n",
    "\n",
    "#reviews = pd.read_csv(tab1, sep='\\t', header=0,low_memory=False)\n",
    "reviews = pd.read_csv(tab1, sep='\\t', low_memory=False)\n",
    "#reviews = pd.read_csv(tab2,low_memory=False)\n",
    "reviews.columns = ['marketplace','customer_id', 'review_id', 'product_id', 'product_parent', 'product_title', 'product_category', \n",
    "                   'star_rating','helpful_votes', 'total_votes','vine',\n",
    "                   'verified_purchase','review_headline','review_body','review_date']\n",
    "reviews = reviews.loc[reviews['product_parent']==758099411]"
   ]
  },
  {
   "cell_type": "code",
   "execution_count": 3,
   "metadata": {},
   "outputs": [
    {
     "data": {
      "text/plain": [
       "marketplace            1\n",
       "customer_id          535\n",
       "review_id            535\n",
       "product_id             1\n",
       "product_parent         1\n",
       "product_title          1\n",
       "product_category       1\n",
       "star_rating            5\n",
       "helpful_votes         24\n",
       "total_votes           27\n",
       "vine                   1\n",
       "verified_purchase      2\n",
       "review_headline      413\n",
       "review_body          533\n",
       "review_date          437\n",
       "dtype: int64"
      ]
     },
     "execution_count": 3,
     "metadata": {},
     "output_type": "execute_result"
    }
   ],
   "source": [
    "reviews.nunique()"
   ]
  },
  {
   "cell_type": "code",
   "execution_count": null,
   "metadata": {},
   "outputs": [],
   "source": []
  }
 ],
 "metadata": {
  "kernelspec": {
   "display_name": "Python 3",
   "language": "python",
   "name": "python3"
  },
  "language_info": {
   "codemirror_mode": {
    "name": "ipython",
    "version": 3
   },
   "file_extension": ".py",
   "mimetype": "text/x-python",
   "name": "python",
   "nbconvert_exporter": "python",
   "pygments_lexer": "ipython3",
   "version": "3.7.3"
  }
 },
 "nbformat": 4,
 "nbformat_minor": 4
}
