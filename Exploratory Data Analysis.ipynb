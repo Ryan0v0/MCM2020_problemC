{
 "cells": [
  {
   "cell_type": "code",
   "execution_count": 1,
   "metadata": {},
   "outputs": [],
   "source": [
    "import pandas as pd\n",
    "import matplotlib.pylab as plt"
   ]
  },
  {
   "cell_type": "code",
   "execution_count": 6,
   "metadata": {
    "scrolled": false
   },
   "outputs": [
    {
     "name": "stdout",
     "output_type": "stream",
     "text": [
      "./hair_dryer.tsv\n"
     ]
    }
   ],
   "source": [
    "tab1 = \"./hair_dryer.tsv\"\n",
    "print(tab1)"
   ]
  },
  {
   "cell_type": "code",
   "execution_count": null,
   "metadata": {},
   "outputs": [],
   "source": [
    "tab2 = \".\""
   ]
  },
  {
   "cell_type": "code",
   "execution_count": 7,
   "metadata": {},
   "outputs": [],
   "source": [
    "df = pd.read_csv(tab1, sep='\\t', header=0)"
   ]
  },
  {
   "cell_type": "code",
   "execution_count": 8,
   "metadata": {},
   "outputs": [
    {
     "data": {
      "text/html": [
       "<div>\n",
       "<style scoped>\n",
       "    .dataframe tbody tr th:only-of-type {\n",
       "        vertical-align: middle;\n",
       "    }\n",
       "\n",
       "    .dataframe tbody tr th {\n",
       "        vertical-align: top;\n",
       "    }\n",
       "\n",
       "    .dataframe thead th {\n",
       "        text-align: right;\n",
       "    }\n",
       "</style>\n",
       "<table border=\"1\" class=\"dataframe\">\n",
       "  <thead>\n",
       "    <tr style=\"text-align: right;\">\n",
       "      <th></th>\n",
       "      <th>marketplace</th>\n",
       "      <th>customer_id</th>\n",
       "      <th>review_id</th>\n",
       "      <th>product_id</th>\n",
       "      <th>product_parent</th>\n",
       "      <th>product_title</th>\n",
       "      <th>product_category</th>\n",
       "      <th>star_rating</th>\n",
       "      <th>helpful_votes</th>\n",
       "      <th>total_votes</th>\n",
       "      <th>vine</th>\n",
       "      <th>verified_purchase</th>\n",
       "      <th>review_headline</th>\n",
       "      <th>review_body</th>\n",
       "      <th>review_date</th>\n",
       "    </tr>\n",
       "  </thead>\n",
       "  <tbody>\n",
       "    <tr>\n",
       "      <th>0</th>\n",
       "      <td>US</td>\n",
       "      <td>34678741</td>\n",
       "      <td>R9T1FE2ZX2X04</td>\n",
       "      <td>B003V264WW</td>\n",
       "      <td>732252283</td>\n",
       "      <td>remington ac2015 t|studio salon collection pea...</td>\n",
       "      <td>Beauty</td>\n",
       "      <td>5</td>\n",
       "      <td>0</td>\n",
       "      <td>0</td>\n",
       "      <td>N</td>\n",
       "      <td>Y</td>\n",
       "      <td>Works great</td>\n",
       "      <td>Works great!</td>\n",
       "      <td>8/31/2015</td>\n",
       "    </tr>\n",
       "    <tr>\n",
       "      <th>1</th>\n",
       "      <td>US</td>\n",
       "      <td>11599505</td>\n",
       "      <td>RE36JAD5V53PO</td>\n",
       "      <td>B0009XH6V4</td>\n",
       "      <td>670161917</td>\n",
       "      <td>andis micro turbo hair dryer</td>\n",
       "      <td>Beauty</td>\n",
       "      <td>4</td>\n",
       "      <td>0</td>\n",
       "      <td>0</td>\n",
       "      <td>N</td>\n",
       "      <td>Y</td>\n",
       "      <td>I love travel blow dryers because they are eas...</td>\n",
       "      <td>This dries my hair faster that bigger, more po...</td>\n",
       "      <td>8/31/2015</td>\n",
       "    </tr>\n",
       "    <tr>\n",
       "      <th>2</th>\n",
       "      <td>US</td>\n",
       "      <td>2282190</td>\n",
       "      <td>RIDHM8B7SCCV3</td>\n",
       "      <td>B0007NZPY6</td>\n",
       "      <td>16483457</td>\n",
       "      <td>conair pro hair dryer</td>\n",
       "      <td>Beauty</td>\n",
       "      <td>5</td>\n",
       "      <td>0</td>\n",
       "      <td>1</td>\n",
       "      <td>N</td>\n",
       "      <td>Y</td>\n",
       "      <td>Five Stars</td>\n",
       "      <td>Love this dryer!</td>\n",
       "      <td>8/31/2015</td>\n",
       "    </tr>\n",
       "    <tr>\n",
       "      <th>3</th>\n",
       "      <td>US</td>\n",
       "      <td>43669858</td>\n",
       "      <td>R14QGWPCHU9LSE</td>\n",
       "      <td>B00BB8ZIW0</td>\n",
       "      <td>253917972</td>\n",
       "      <td>remington silk ceramic professional hair dryer</td>\n",
       "      <td>Beauty</td>\n",
       "      <td>5</td>\n",
       "      <td>0</td>\n",
       "      <td>0</td>\n",
       "      <td>N</td>\n",
       "      <td>Y</td>\n",
       "      <td>Five Stars</td>\n",
       "      <td>styling hair in style</td>\n",
       "      <td>8/31/2015</td>\n",
       "    </tr>\n",
       "    <tr>\n",
       "      <th>4</th>\n",
       "      <td>US</td>\n",
       "      <td>107098</td>\n",
       "      <td>R35BHQJHXXJD59</td>\n",
       "      <td>B003V264WW</td>\n",
       "      <td>732252283</td>\n",
       "      <td>remington ac2015 t|studio salon collection pea...</td>\n",
       "      <td>Beauty</td>\n",
       "      <td>4</td>\n",
       "      <td>0</td>\n",
       "      <td>0</td>\n",
       "      <td>N</td>\n",
       "      <td>N</td>\n",
       "      <td>I think's great. The cord length is perfect</td>\n",
       "      <td>I just got this last week. I think's great. Th...</td>\n",
       "      <td>8/31/2015</td>\n",
       "    </tr>\n",
       "  </tbody>\n",
       "</table>\n",
       "</div>"
      ],
      "text/plain": [
       "  marketplace  customer_id       review_id  product_id  product_parent  \\\n",
       "0          US     34678741   R9T1FE2ZX2X04  B003V264WW       732252283   \n",
       "1          US     11599505   RE36JAD5V53PO  B0009XH6V4       670161917   \n",
       "2          US      2282190   RIDHM8B7SCCV3  B0007NZPY6        16483457   \n",
       "3          US     43669858  R14QGWPCHU9LSE  B00BB8ZIW0       253917972   \n",
       "4          US       107098  R35BHQJHXXJD59  B003V264WW       732252283   \n",
       "\n",
       "                                       product_title product_category  \\\n",
       "0  remington ac2015 t|studio salon collection pea...           Beauty   \n",
       "1                       andis micro turbo hair dryer           Beauty   \n",
       "2                              conair pro hair dryer           Beauty   \n",
       "3     remington silk ceramic professional hair dryer           Beauty   \n",
       "4  remington ac2015 t|studio salon collection pea...           Beauty   \n",
       "\n",
       "   star_rating  helpful_votes  total_votes vine verified_purchase  \\\n",
       "0            5              0            0    N                 Y   \n",
       "1            4              0            0    N                 Y   \n",
       "2            5              0            1    N                 Y   \n",
       "3            5              0            0    N                 Y   \n",
       "4            4              0            0    N                 N   \n",
       "\n",
       "                                     review_headline  \\\n",
       "0                                        Works great   \n",
       "1  I love travel blow dryers because they are eas...   \n",
       "2                                         Five Stars   \n",
       "3                                         Five Stars   \n",
       "4        I think's great. The cord length is perfect   \n",
       "\n",
       "                                         review_body review_date  \n",
       "0                                       Works great!   8/31/2015  \n",
       "1  This dries my hair faster that bigger, more po...   8/31/2015  \n",
       "2                                   Love this dryer!   8/31/2015  \n",
       "3                              styling hair in style   8/31/2015  \n",
       "4  I just got this last week. I think's great. Th...   8/31/2015  "
      ]
     },
     "execution_count": 8,
     "metadata": {},
     "output_type": "execute_result"
    }
   ],
   "source": [
    "df.head()"
   ]
  },
  {
   "cell_type": "code",
   "execution_count": null,
   "metadata": {},
   "outputs": [],
   "source": []
  }
 ],
 "metadata": {
  "kernelspec": {
   "display_name": "Python 3",
   "language": "python",
   "name": "python3"
  },
  "language_info": {
   "codemirror_mode": {
    "name": "ipython",
    "version": 3
   },
   "file_extension": ".py",
   "mimetype": "text/x-python",
   "name": "python",
   "nbconvert_exporter": "python",
   "pygments_lexer": "ipython3",
   "version": "3.7.3"
  }
 },
 "nbformat": 4,
 "nbformat_minor": 2
}
